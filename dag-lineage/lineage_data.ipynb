{
 "cells": [
  {
   "cell_type": "code",
   "execution_count": 50,
   "metadata": {},
   "outputs": [],
   "source": [
    "# before running notebook pip install https://github.com/DHARPA-Project/kiara_plugin.playground to access the example pipelines"
   ]
  },
  {
   "cell_type": "code",
   "execution_count": 48,
   "metadata": {},
   "outputs": [],
   "source": [
    "from kiara import KiaraAPI, Kiara\n",
    "import networkx\n",
    "from networkx.readwrite import json_graph\n",
    "import json"
   ]
  },
  {
   "cell_type": "code",
   "execution_count": 25,
   "metadata": {},
   "outputs": [],
   "source": [
    "kiara = Kiara.instance()\n",
    "api = KiaraAPI(kiara=kiara)"
   ]
  },
  {
   "cell_type": "code",
   "execution_count": 26,
   "metadata": {},
   "outputs": [
    {
     "name": "stdout",
     "output_type": "stream",
     "text": [
      "Name: kiara\n",
      "Version: 0.4.20\n",
      "Summary: Data-centric workflow orchestration.\n",
      "Home-page: https://github.com/DHARPA-Project/kiara\n",
      "Author: Markus Binsteiner\n",
      "Author-email: markus@frkl.io\n",
      "License: MPL-2.0\n",
      "Location: /opt/miniconda3/envs/lineage_data/lib/python3.9/site-packages\n",
      "Requires: airium, alembic, appdirs, bidict, black, click, dag-cbor, deepdiff, Deprecated, distro, dpath, filetype, humanfriendly, jinja2, jupytext, mistune, mkdocstrings, mmh3, multiformats, networkx, orjson, pp-ez, pydantic, python-dateutil, python-slugify, pyzmq, regex, rich, rich-click, ruamel.yaml, sortedcontainers, sqlalchemy, sqlalchemy-utc, sqlalchemy-utils, stevedore, structlog, textual, tzlocal\n",
      "Required-by: kiara-plugin.core-types, kiara-plugin.playground, kiara-plugin.tabular\n"
     ]
    }
   ],
   "source": [
    "# version of Kiara used in this notebook\n",
    "!pip show kiara"
   ]
  },
  {
   "cell_type": "markdown",
   "metadata": {},
   "source": [
    "#### 1. Overview of the operations we will be experimenting on to create lineage data"
   ]
  },
  {
   "cell_type": "markdown",
   "metadata": {},
   "source": [
    "- corpus onboarding\n",
    "example corpus onboarding pipeline from https://github.com/DHARPA-Project/kiara.examples/blob/main/examples/pipelines/topic_modeling/corpus_onboarding.yaml "
   ]
  },
  {
   "cell_type": "code",
   "execution_count": 27,
   "metadata": {},
   "outputs": [
    {
     "data": {
      "text/html": [
       "<pre style=\"white-space:pre;overflow-x:auto;line-height:normal;font-family:Menlo,'DejaVu Sans Mono',consolas,'Courier New',monospace\">                                                                                                                                            \n",
       " <span style=\"font-style: italic\">Documentation    </span>                                                                                                                          \n",
       " <span style=\"font-style: italic\">                 </span>   Load a table from a bundle of text files.                                                                              \n",
       " <span style=\"font-style: italic\">                 </span>                                                                                                                          \n",
       " <span style=\"font-style: italic\">Author(s)        </span>                                                                                                                          \n",
       " <span style=\"font-style: italic\">                 </span>   Markus Binsteiner  <span style=\"font-style: italic\"> markus@frkl.io </span>                                                                                    \n",
       " <span style=\"font-style: italic\">                 </span>                                                                                                                          \n",
       " <span style=\"font-style: italic\">Context          </span>                                                                                                                          \n",
       " <span style=\"font-style: italic\">                 </span>  <span style=\"font-style: italic\"> Labels     </span>  <span style=\"font-style: italic\">package</span>: kiara                                                                                            \n",
       " <span style=\"font-style: italic\">                 </span>  <span style=\"font-style: italic\"> References </span>  <span style=\"font-style: italic\">source_repo</span>: <a href=\"https://github.com/DHARPA-Project/kiara\" target=\"_blank\">https://github.com/DHARPA-Project/kiara</a>                                                      \n",
       " <span style=\"font-style: italic\">                 </span>  <span style=\"font-style: italic\">            </span>  <span style=\"font-style: italic\">documentation</span>: <a href=\"https://dharpa.org/kiara_documentation/\" target=\"_blank\">https://dharpa.org/kiara_documentation/</a>                                                    \n",
       " <span style=\"font-style: italic\">                 </span>                                                                                                                          \n",
       " <span style=\"font-style: italic\">Operation details</span>                                                                                                                          \n",
       " <span style=\"font-style: italic\">                 </span>  <span style=\"font-style: italic\"> Documentation </span>  Load a table from a bundle of text files.                                                              \n",
       " <span style=\"font-style: italic\">                 </span>                                                                                                                          \n",
       " <span style=\"font-style: italic\">                 </span>  <span style=\"font-style: italic\"> Inputs        </span>                                                                                                         \n",
       " <span style=\"font-style: italic\">                 </span>  <span style=\"font-style: italic\">               </span>   <span style=\"font-weight: bold\"> field name </span> <span style=\"font-weight: bold\"> type   </span> <span style=\"font-weight: bold\"> description                                  </span> <span style=\"font-weight: bold\"> Required </span> <span style=\"font-weight: bold\"> Default          </span>    \n",
       " <span style=\"font-style: italic\">                 </span>  <span style=\"font-style: italic\">               </span>   ──────────────────────────────────────────────────────────────────────────────────────────────────    \n",
       " <span style=\"font-style: italic\">                 </span>  <span style=\"font-style: italic\">               </span>   <span style=\"font-style: italic\"> path       </span>  string   The local path of the folder to import.        <span style=\"font-weight: bold\">yes</span>        -- no default --     \n",
       " <span style=\"font-style: italic\">                 </span>  <span style=\"font-style: italic\">               </span>                                                                                                         \n",
       " <span style=\"font-style: italic\">                 </span>                                                                                                                          \n",
       " <span style=\"font-style: italic\">                 </span>  <span style=\"font-style: italic\"> Outputs       </span>                                                                                                         \n",
       " <span style=\"font-style: italic\">                 </span>  <span style=\"font-style: italic\">               </span>   <span style=\"font-weight: bold\"> field name           </span> <span style=\"font-weight: bold\"> type        </span> <span style=\"font-weight: bold\"> description                                                 </span>    \n",
       " <span style=\"font-style: italic\">                 </span>  <span style=\"font-style: italic\">               </span>   ──────────────────────────────────────────────────────────────────────────────────────────────────    \n",
       " <span style=\"font-style: italic\">                 </span>  <span style=\"font-style: italic\">               </span>   <span style=\"font-style: italic\"> imported_file_bundle </span>  file_bundle   The imported file bundle.                                       \n",
       " <span style=\"font-style: italic\">                 </span>  <span style=\"font-style: italic\">               </span>   <span style=\"font-style: italic\"> table                </span>  table         The result value.                                               \n",
       " <span style=\"font-style: italic\">                 </span>  <span style=\"font-style: italic\">               </span>                                                                                                         \n",
       " <span style=\"font-style: italic\">                 </span>                                                                                                                          \n",
       "                                                                                                                                            \n",
       "</pre>\n"
      ],
      "text/plain": [
       "                                                                                                                                            \n",
       " \u001b[3mDocumentation    \u001b[0m                                                                                                                          \n",
       " \u001b[3m                 \u001b[0m   Load a table from a bundle of text files.                                                                              \n",
       " \u001b[3m                 \u001b[0m                                                                                                                          \n",
       " \u001b[3mAuthor(s)        \u001b[0m                                                                                                                          \n",
       " \u001b[3m                 \u001b[0m   Markus Binsteiner  \u001b[3m \u001b[0m\u001b[3mmarkus@frkl.io\u001b[0m\u001b[3m \u001b[0m                                                                                    \n",
       " \u001b[3m                 \u001b[0m                                                                                                                          \n",
       " \u001b[3mContext          \u001b[0m                                                                                                                          \n",
       " \u001b[3m                 \u001b[0m  \u001b[3m \u001b[0m\u001b[3mLabels    \u001b[0m\u001b[3m \u001b[0m  \u001b[3mpackage\u001b[0m: kiara                                                                                            \n",
       " \u001b[3m                 \u001b[0m  \u001b[3m \u001b[0m\u001b[3mReferences\u001b[0m\u001b[3m \u001b[0m  \u001b[3msource_repo\u001b[0m: \u001b]8;id=225987;https://github.com/DHARPA-Project/kiara\u001b\\https://github.com/DHARPA-Project/kiara\u001b]8;;\u001b\\                                                      \n",
       " \u001b[3m                 \u001b[0m  \u001b[3m            \u001b[0m  \u001b[3mdocumentation\u001b[0m: \u001b]8;id=445437;https://dharpa.org/kiara_documentation/\u001b\\https://dharpa.org/kiara_documentation/\u001b]8;;\u001b\\                                                    \n",
       " \u001b[3m                 \u001b[0m                                                                                                                          \n",
       " \u001b[3mOperation details\u001b[0m                                                                                                                          \n",
       " \u001b[3m                 \u001b[0m  \u001b[3m \u001b[0m\u001b[3mDocumentation\u001b[0m\u001b[3m \u001b[0m  Load a table from a bundle of text files.                                                              \n",
       " \u001b[3m                 \u001b[0m                                                                                                                          \n",
       " \u001b[3m                 \u001b[0m  \u001b[3m \u001b[0m\u001b[3mInputs       \u001b[0m\u001b[3m \u001b[0m                                                                                                         \n",
       " \u001b[3m                 \u001b[0m  \u001b[3m               \u001b[0m   \u001b[1m \u001b[0m\u001b[1mfield name\u001b[0m\u001b[1m \u001b[0m \u001b[1m \u001b[0m\u001b[1mtype  \u001b[0m\u001b[1m \u001b[0m \u001b[1m \u001b[0m\u001b[1mdescription                                 \u001b[0m\u001b[1m \u001b[0m \u001b[1m \u001b[0m\u001b[1mRequired\u001b[0m\u001b[1m \u001b[0m \u001b[1m \u001b[0m\u001b[1mDefault         \u001b[0m\u001b[1m \u001b[0m    \n",
       " \u001b[3m                 \u001b[0m  \u001b[3m               \u001b[0m   ──────────────────────────────────────────────────────────────────────────────────────────────────    \n",
       " \u001b[3m                 \u001b[0m  \u001b[3m               \u001b[0m   \u001b[3m \u001b[0m\u001b[3mpath      \u001b[0m\u001b[3m \u001b[0m  string   The local path of the folder to import.        \u001b[1myes\u001b[0m        -- no default --     \n",
       " \u001b[3m                 \u001b[0m  \u001b[3m               \u001b[0m                                                                                                         \n",
       " \u001b[3m                 \u001b[0m                                                                                                                          \n",
       " \u001b[3m                 \u001b[0m  \u001b[3m \u001b[0m\u001b[3mOutputs      \u001b[0m\u001b[3m \u001b[0m                                                                                                         \n",
       " \u001b[3m                 \u001b[0m  \u001b[3m               \u001b[0m   \u001b[1m \u001b[0m\u001b[1mfield name          \u001b[0m\u001b[1m \u001b[0m \u001b[1m \u001b[0m\u001b[1mtype       \u001b[0m\u001b[1m \u001b[0m \u001b[1m \u001b[0m\u001b[1mdescription                                                \u001b[0m\u001b[1m \u001b[0m    \n",
       " \u001b[3m                 \u001b[0m  \u001b[3m               \u001b[0m   ──────────────────────────────────────────────────────────────────────────────────────────────────    \n",
       " \u001b[3m                 \u001b[0m  \u001b[3m               \u001b[0m   \u001b[3m \u001b[0m\u001b[3mimported_file_bundle\u001b[0m\u001b[3m \u001b[0m  file_bundle   The imported file bundle.                                       \n",
       " \u001b[3m                 \u001b[0m  \u001b[3m               \u001b[0m   \u001b[3m \u001b[0m\u001b[3mtable               \u001b[0m\u001b[3m \u001b[0m  table         The result value.                                               \n",
       " \u001b[3m                 \u001b[0m  \u001b[3m               \u001b[0m                                                                                                         \n",
       " \u001b[3m                 \u001b[0m                                                                                                                          \n",
       "                                                                                                                                            \n"
      ]
     },
     "execution_count": 27,
     "metadata": {},
     "output_type": "execute_result"
    }
   ],
   "source": [
    "api.get_operation_info('import.table.from.text_file_bundle')"
   ]
  },
  {
   "cell_type": "markdown",
   "metadata": {},
   "source": [
    "- text processing\n",
    "example topic modeling pipeline from https://github.com/DHARPA-Project/kiara.examples/blob/main/examples/pipelines/topic_modeling/topic_modeling.yaml "
   ]
  },
  {
   "cell_type": "code",
   "execution_count": 28,
   "metadata": {},
   "outputs": [
    {
     "data": {
      "text/html": [
       "<pre style=\"white-space:pre;overflow-x:auto;line-height:normal;font-family:Menlo,'DejaVu Sans Mono',consolas,'Courier New',monospace\">                                                                                                                                            \n",
       " <span style=\"font-style: italic\">Documentation    </span>                                                                                                                          \n",
       " <span style=\"font-style: italic\">                 </span>   Example topic-modeling end-to-end workflow.                                                                            \n",
       " <span style=\"font-style: italic\">                 </span>                                                                                                                          \n",
       " <span style=\"font-style: italic\">Author(s)        </span>                                                                                                                          \n",
       " <span style=\"font-style: italic\">                 </span>   Markus Binsteiner  <span style=\"font-style: italic\"> markus@frkl.io </span>                                                                                    \n",
       " <span style=\"font-style: italic\">                 </span>                                                                                                                          \n",
       " <span style=\"font-style: italic\">Context          </span>                                                                                                                          \n",
       " <span style=\"font-style: italic\">                 </span>  <span style=\"font-style: italic\"> Labels     </span>  <span style=\"font-style: italic\">package</span>: kiara                                                                                            \n",
       " <span style=\"font-style: italic\">                 </span>  <span style=\"font-style: italic\"> References </span>  <span style=\"font-style: italic\">source_repo</span>: <a href=\"https://github.com/DHARPA-Project/kiara\" target=\"_blank\">https://github.com/DHARPA-Project/kiara</a>                                                      \n",
       " <span style=\"font-style: italic\">                 </span>  <span style=\"font-style: italic\">            </span>  <span style=\"font-style: italic\">documentation</span>: <a href=\"https://dharpa.org/kiara_documentation/\" target=\"_blank\">https://dharpa.org/kiara_documentation/</a>                                                    \n",
       " <span style=\"font-style: italic\">                 </span>                                                                                                                          \n",
       " <span style=\"font-style: italic\">Operation details</span>                                                                                                                          \n",
       " <span style=\"font-style: italic\">                 </span>  <span style=\"font-style: italic\"> Documentation </span>  Example topic-modeling end-to-end workflow.                                                            \n",
       " <span style=\"font-style: italic\">                 </span>                                                                                                                          \n",
       " <span style=\"font-style: italic\">                 </span>  <span style=\"font-style: italic\"> Inputs        </span>                                                                                                         \n",
       " <span style=\"font-style: italic\">                 </span>  <span style=\"font-style: italic\">               </span>   <span style=\"font-weight: bold\"> field name              </span> <span style=\"font-weight: bold\"> type    </span> <span style=\"font-weight: bold\"> description             </span> <span style=\"font-weight: bold\"> Required </span> <span style=\"font-weight: bold\"> Default                 </span>    \n",
       " <span style=\"font-style: italic\">                 </span>  <span style=\"font-style: italic\">               </span>   ──────────────────────────────────────────────────────────────────────────────────────────────────    \n",
       " <span style=\"font-style: italic\">                 </span>  <span style=\"font-style: italic\">               </span>   <span style=\"font-style: italic\"> text_corpus_folder_path </span>  string    The local path of the     no         /../../data/text_corpu…     \n",
       " <span style=\"font-style: italic\">                 </span>  <span style=\"font-style: italic\">               </span>   <span style=\"font-style: italic\">                         </span>            folder to import.                                                \n",
       " <span style=\"font-style: italic\">                 </span>  <span style=\"font-style: italic\">               </span>   <span style=\"font-style: italic\"> content_column_name     </span>  string    The name of the column    no         content                     \n",
       " <span style=\"font-style: italic\">                 </span>  <span style=\"font-style: italic\">               </span>   <span style=\"font-style: italic\">                         </span>            to extract.                                                      \n",
       " <span style=\"font-style: italic\">                 </span>  <span style=\"font-style: italic\">               </span>   <span style=\"font-style: italic\"> filename_column_name    </span>  string    The name of the column    no         file_name                   \n",
       " <span style=\"font-style: italic\">                 </span>  <span style=\"font-style: italic\">               </span>   <span style=\"font-style: italic\">                         </span>            to extract.                                                      \n",
       " <span style=\"font-style: italic\">                 </span>  <span style=\"font-style: italic\">               </span>   <span style=\"font-style: italic\"> date_force_non_null     </span>  boolean   If set to 'True', raise   no         True                        \n",
       " <span style=\"font-style: italic\">                 </span>  <span style=\"font-style: italic\">               </span>   <span style=\"font-style: italic\">                         </span>            an error if any of the                                           \n",
       " <span style=\"font-style: italic\">                 </span>  <span style=\"font-style: italic\">               </span>   <span style=\"font-style: italic\">                         </span>            strings in the array                                             \n",
       " <span style=\"font-style: italic\">                 </span>  <span style=\"font-style: italic\">               </span>   <span style=\"font-style: italic\">                         </span>            can't be parsed.                                                 \n",
       " <span style=\"font-style: italic\">                 </span>  <span style=\"font-style: italic\">               </span>   <span style=\"font-style: italic\"> date_parse_min          </span>  integer   The minimum index from    no         11                          \n",
       " <span style=\"font-style: italic\">                 </span>  <span style=\"font-style: italic\">               </span>   <span style=\"font-style: italic\">                         </span>            where to start parsing                                           \n",
       " <span style=\"font-style: italic\">                 </span>  <span style=\"font-style: italic\">               </span>   <span style=\"font-style: italic\">                         </span>            the string(s).                                                   \n",
       " <span style=\"font-style: italic\">                 </span>  <span style=\"font-style: italic\">               </span>   <span style=\"font-style: italic\"> date_parse_max          </span>  integer   The maximum index until   no         21                          \n",
       " <span style=\"font-style: italic\">                 </span>  <span style=\"font-style: italic\">               </span>   <span style=\"font-style: italic\">                         </span>            whic to parse the                                                \n",
       " <span style=\"font-style: italic\">                 </span>  <span style=\"font-style: italic\">               </span>   <span style=\"font-style: italic\">                         </span>            string(s).                                                       \n",
       " <span style=\"font-style: italic\">                 </span>  <span style=\"font-style: italic\">               </span>   <span style=\"font-style: italic\"> date_remove_tokensl     </span>  list      A list of                 no         []                          \n",
       " <span style=\"font-style: italic\">                 </span>  <span style=\"font-style: italic\">               </span>   <span style=\"font-style: italic\">                         </span>            tokens/characters to                                             \n",
       " <span style=\"font-style: italic\">                 </span>  <span style=\"font-style: italic\">               </span>   <span style=\"font-style: italic\">                         </span>            replace with a single                                            \n",
       " <span style=\"font-style: italic\">                 </span>  <span style=\"font-style: italic\">               </span>   <span style=\"font-style: italic\">                         </span>            white-space before                                               \n",
       " <span style=\"font-style: italic\">                 </span>  <span style=\"font-style: italic\">               </span>   <span style=\"font-style: italic\">                         </span>            parsing the input.                                               \n",
       " <span style=\"font-style: italic\">                 </span>  <span style=\"font-style: italic\">               </span>   <span style=\"font-style: italic\"> tokenize_by_word        </span>  boolean   Whether to tokenize by    no         True                        \n",
       " <span style=\"font-style: italic\">                 </span>  <span style=\"font-style: italic\">               </span>   <span style=\"font-style: italic\">                         </span>            word (default), or                                               \n",
       " <span style=\"font-style: italic\">                 </span>  <span style=\"font-style: italic\">               </span>   <span style=\"font-style: italic\">                         </span>            character.                                                       \n",
       " <span style=\"font-style: italic\">                 </span>  <span style=\"font-style: italic\">               </span>   <span style=\"font-style: italic\"> languages               </span>  list      A list of languages,      no         ['italian']                 \n",
       " <span style=\"font-style: italic\">                 </span>  <span style=\"font-style: italic\">               </span>   <span style=\"font-style: italic\">                         </span>            will be used to                                                  \n",
       " <span style=\"font-style: italic\">                 </span>  <span style=\"font-style: italic\">               </span>   <span style=\"font-style: italic\">                         </span>            retrieve                                                         \n",
       " <span style=\"font-style: italic\">                 </span>  <span style=\"font-style: italic\">               </span>   <span style=\"font-style: italic\">                         </span>            language-specific                                                \n",
       " <span style=\"font-style: italic\">                 </span>  <span style=\"font-style: italic\">               </span>   <span style=\"font-style: italic\">                         </span>            stopword from nltk.                                              \n",
       " <span style=\"font-style: italic\">                 </span>  <span style=\"font-style: italic\">               </span>   <span style=\"font-style: italic\"> stopword_lists          </span>  list      A list of lists of        no         []                          \n",
       " <span style=\"font-style: italic\">                 </span>  <span style=\"font-style: italic\">               </span>   <span style=\"font-style: italic\">                         </span>            stopwords.                                                       \n",
       " <span style=\"font-style: italic\">                 </span>  <span style=\"font-style: italic\">               </span>   <span style=\"font-style: italic\"> to_lowercase            </span>  boolean   Apply lowercasing to      no         False                       \n",
       " <span style=\"font-style: italic\">                 </span>  <span style=\"font-style: italic\">               </span>   <span style=\"font-style: italic\">                         </span>            the text.                                                        \n",
       " <span style=\"font-style: italic\">                 </span>  <span style=\"font-style: italic\">               </span>   <span style=\"font-style: italic\"> remove_alphanumeric     </span>  boolean   Remove all tokens that    no         False                       \n",
       " <span style=\"font-style: italic\">                 </span>  <span style=\"font-style: italic\">               </span>   <span style=\"font-style: italic\">                         </span>            include numbers (e.g.                                            \n",
       " <span style=\"font-style: italic\">                 </span>  <span style=\"font-style: italic\">               </span>   <span style=\"font-style: italic\">                         </span>            ex1ample).                                                       \n",
       " <span style=\"font-style: italic\">                 </span>  <span style=\"font-style: italic\">               </span>   <span style=\"font-style: italic\"> remove_non_alpha        </span>  boolean   Remove all tokens that    no         False                       \n",
       " <span style=\"font-style: italic\">                 </span>  <span style=\"font-style: italic\">               </span>   <span style=\"font-style: italic\">                         </span>            include punctuation and                                          \n",
       " <span style=\"font-style: italic\">                 </span>  <span style=\"font-style: italic\">               </span>   <span style=\"font-style: italic\">                         </span>            numbers (e.g.                                                    \n",
       " <span style=\"font-style: italic\">                 </span>  <span style=\"font-style: italic\">               </span>   <span style=\"font-style: italic\">                         </span>            ex1a.mple).                                                      \n",
       " <span style=\"font-style: italic\">                 </span>  <span style=\"font-style: italic\">               </span>   <span style=\"font-style: italic\"> remove_all_numeric      </span>  boolean   Remove all tokens that    no         False                       \n",
       " <span style=\"font-style: italic\">                 </span>  <span style=\"font-style: italic\">               </span>   <span style=\"font-style: italic\">                         </span>            contain numbers only                                             \n",
       " <span style=\"font-style: italic\">                 </span>  <span style=\"font-style: italic\">               </span>   <span style=\"font-style: italic\">                         </span>            (e.g. 876).                                                      \n",
       " <span style=\"font-style: italic\">                 </span>  <span style=\"font-style: italic\">               </span>   <span style=\"font-style: italic\"> remove_short_tokens     </span>  integer   Remove tokens shorter     no         False                       \n",
       " <span style=\"font-style: italic\">                 </span>  <span style=\"font-style: italic\">               </span>   <span style=\"font-style: italic\">                         </span>            than a certain length.                                           \n",
       " <span style=\"font-style: italic\">                 </span>  <span style=\"font-style: italic\">               </span>   <span style=\"font-style: italic\">                         </span>            If value is &lt;= 0, no                                             \n",
       " <span style=\"font-style: italic\">                 </span>  <span style=\"font-style: italic\">               </span>   <span style=\"font-style: italic\">                         </span>            filtering will be done.                                          \n",
       " <span style=\"font-style: italic\">                 </span>  <span style=\"font-style: italic\">               </span>   <span style=\"font-style: italic\"> num_topics_min          </span>  integer   The minimal number of     no         7                           \n",
       " <span style=\"font-style: italic\">                 </span>  <span style=\"font-style: italic\">               </span>   <span style=\"font-style: italic\">                         </span>            topics.                                                          \n",
       " <span style=\"font-style: italic\">                 </span>  <span style=\"font-style: italic\">               </span>   <span style=\"font-style: italic\"> num_topics_max          </span>  integer   The max number of         no         7                           \n",
       " <span style=\"font-style: italic\">                 </span>  <span style=\"font-style: italic\">               </span>   <span style=\"font-style: italic\">                         </span>            topics.                                                          \n",
       " <span style=\"font-style: italic\">                 </span>  <span style=\"font-style: italic\">               </span>   <span style=\"font-style: italic\"> compute_coherence       </span>  boolean   Whether to compute the    no         False                       \n",
       " <span style=\"font-style: italic\">                 </span>  <span style=\"font-style: italic\">               </span>   <span style=\"font-style: italic\">                         </span>            coherence score for                                              \n",
       " <span style=\"font-style: italic\">                 </span>  <span style=\"font-style: italic\">               </span>   <span style=\"font-style: italic\">                         </span>            each model.                                                      \n",
       " <span style=\"font-style: italic\">                 </span>  <span style=\"font-style: italic\">               </span>   <span style=\"font-style: italic\"> words_per_topic         </span>  integer   How many words per        no         10                          \n",
       " <span style=\"font-style: italic\">                 </span>  <span style=\"font-style: italic\">               </span>   <span style=\"font-style: italic\">                         </span>            topic to put in the                                              \n",
       " <span style=\"font-style: italic\">                 </span>  <span style=\"font-style: italic\">               </span>   <span style=\"font-style: italic\">                         </span>            result model.                                                    \n",
       " <span style=\"font-style: italic\">                 </span>  <span style=\"font-style: italic\">               </span>                                                                                                         \n",
       " <span style=\"font-style: italic\">                 </span>                                                                                                                          \n",
       " <span style=\"font-style: italic\">                 </span>  <span style=\"font-style: italic\"> Outputs       </span>                                                                                                         \n",
       " <span style=\"font-style: italic\">                 </span>  <span style=\"font-style: italic\">               </span>   <span style=\"font-weight: bold\"> field name              </span> <span style=\"font-weight: bold\"> type        </span> <span style=\"font-weight: bold\"> description                                              </span>    \n",
       " <span style=\"font-style: italic\">                 </span>  <span style=\"font-style: italic\">               </span>   ──────────────────────────────────────────────────────────────────────────────────────────────────    \n",
       " <span style=\"font-style: italic\">                 </span>  <span style=\"font-style: italic\">               </span>   <span style=\"font-style: italic\"> text_corpus_file_bundle </span>  file_bundle   The imported file bundle.                                    \n",
       " <span style=\"font-style: italic\">                 </span>  <span style=\"font-style: italic\">               </span>   <span style=\"font-style: italic\"> text_corpus_table       </span>  table         The result value.                                            \n",
       " <span style=\"font-style: italic\">                 </span>  <span style=\"font-style: italic\">               </span>   <span style=\"font-style: italic\"> content_array           </span>  array         The column.                                                  \n",
       " <span style=\"font-style: italic\">                 </span>  <span style=\"font-style: italic\">               </span>   <span style=\"font-style: italic\"> date_array              </span>  array         The resulting array with items of a date data type.          \n",
       " <span style=\"font-style: italic\">                 </span>  <span style=\"font-style: italic\">               </span>   <span style=\"font-style: italic\"> tokenized_corpus        </span>  array         The tokenized content, as an array of lists of strings.      \n",
       " <span style=\"font-style: italic\">                 </span>  <span style=\"font-style: italic\">               </span>   <span style=\"font-style: italic\"> preprocessed_corpus     </span>  array         The pre-processed content, as an array of lists of           \n",
       " <span style=\"font-style: italic\">                 </span>  <span style=\"font-style: italic\">               </span>   <span style=\"font-style: italic\">                         </span>                strings.                                                     \n",
       " <span style=\"font-style: italic\">                 </span>  <span style=\"font-style: italic\">               </span>   <span style=\"font-style: italic\"> topic_models            </span>  dict          A dictionary with one coherence model table for each         \n",
       " <span style=\"font-style: italic\">                 </span>  <span style=\"font-style: italic\">               </span>   <span style=\"font-style: italic\">                         </span>                number of topics.                                            \n",
       " <span style=\"font-style: italic\">                 </span>  <span style=\"font-style: italic\">               </span>   <span style=\"font-style: italic\"> coherence_table         </span>  table         Coherence details.                                           \n",
       " <span style=\"font-style: italic\">                 </span>  <span style=\"font-style: italic\">               </span>   <span style=\"font-style: italic\"> coherence_map           </span>  dict          A map with the coherence value for every number of           \n",
       " <span style=\"font-style: italic\">                 </span>  <span style=\"font-style: italic\">               </span>   <span style=\"font-style: italic\">                         </span>                topics.                                                      \n",
       " <span style=\"font-style: italic\">                 </span>  <span style=\"font-style: italic\">               </span>                                                                                                         \n",
       " <span style=\"font-style: italic\">                 </span>                                                                                                                          \n",
       "                                                                                                                                            \n",
       "</pre>\n"
      ],
      "text/plain": [
       "                                                                                                                                            \n",
       " \u001b[3mDocumentation    \u001b[0m                                                                                                                          \n",
       " \u001b[3m                 \u001b[0m   Example topic-modeling end-to-end workflow.                                                                            \n",
       " \u001b[3m                 \u001b[0m                                                                                                                          \n",
       " \u001b[3mAuthor(s)        \u001b[0m                                                                                                                          \n",
       " \u001b[3m                 \u001b[0m   Markus Binsteiner  \u001b[3m \u001b[0m\u001b[3mmarkus@frkl.io\u001b[0m\u001b[3m \u001b[0m                                                                                    \n",
       " \u001b[3m                 \u001b[0m                                                                                                                          \n",
       " \u001b[3mContext          \u001b[0m                                                                                                                          \n",
       " \u001b[3m                 \u001b[0m  \u001b[3m \u001b[0m\u001b[3mLabels    \u001b[0m\u001b[3m \u001b[0m  \u001b[3mpackage\u001b[0m: kiara                                                                                            \n",
       " \u001b[3m                 \u001b[0m  \u001b[3m \u001b[0m\u001b[3mReferences\u001b[0m\u001b[3m \u001b[0m  \u001b[3msource_repo\u001b[0m: \u001b]8;id=846858;https://github.com/DHARPA-Project/kiara\u001b\\https://github.com/DHARPA-Project/kiara\u001b]8;;\u001b\\                                                      \n",
       " \u001b[3m                 \u001b[0m  \u001b[3m            \u001b[0m  \u001b[3mdocumentation\u001b[0m: \u001b]8;id=806295;https://dharpa.org/kiara_documentation/\u001b\\https://dharpa.org/kiara_documentation/\u001b]8;;\u001b\\                                                    \n",
       " \u001b[3m                 \u001b[0m                                                                                                                          \n",
       " \u001b[3mOperation details\u001b[0m                                                                                                                          \n",
       " \u001b[3m                 \u001b[0m  \u001b[3m \u001b[0m\u001b[3mDocumentation\u001b[0m\u001b[3m \u001b[0m  Example topic-modeling end-to-end workflow.                                                            \n",
       " \u001b[3m                 \u001b[0m                                                                                                                          \n",
       " \u001b[3m                 \u001b[0m  \u001b[3m \u001b[0m\u001b[3mInputs       \u001b[0m\u001b[3m \u001b[0m                                                                                                         \n",
       " \u001b[3m                 \u001b[0m  \u001b[3m               \u001b[0m   \u001b[1m \u001b[0m\u001b[1mfield name             \u001b[0m\u001b[1m \u001b[0m \u001b[1m \u001b[0m\u001b[1mtype   \u001b[0m\u001b[1m \u001b[0m \u001b[1m \u001b[0m\u001b[1mdescription            \u001b[0m\u001b[1m \u001b[0m \u001b[1m \u001b[0m\u001b[1mRequired\u001b[0m\u001b[1m \u001b[0m \u001b[1m \u001b[0m\u001b[1mDefault                \u001b[0m\u001b[1m \u001b[0m    \n",
       " \u001b[3m                 \u001b[0m  \u001b[3m               \u001b[0m   ──────────────────────────────────────────────────────────────────────────────────────────────────    \n",
       " \u001b[3m                 \u001b[0m  \u001b[3m               \u001b[0m   \u001b[3m \u001b[0m\u001b[3mtext_corpus_folder_path\u001b[0m\u001b[3m \u001b[0m  string    The local path of the     no         /../../data/text_corpu…     \n",
       " \u001b[3m                 \u001b[0m  \u001b[3m               \u001b[0m   \u001b[3m                         \u001b[0m            folder to import.                                                \n",
       " \u001b[3m                 \u001b[0m  \u001b[3m               \u001b[0m   \u001b[3m \u001b[0m\u001b[3mcontent_column_name    \u001b[0m\u001b[3m \u001b[0m  string    The name of the column    no         content                     \n",
       " \u001b[3m                 \u001b[0m  \u001b[3m               \u001b[0m   \u001b[3m                         \u001b[0m            to extract.                                                      \n",
       " \u001b[3m                 \u001b[0m  \u001b[3m               \u001b[0m   \u001b[3m \u001b[0m\u001b[3mfilename_column_name   \u001b[0m\u001b[3m \u001b[0m  string    The name of the column    no         file_name                   \n",
       " \u001b[3m                 \u001b[0m  \u001b[3m               \u001b[0m   \u001b[3m                         \u001b[0m            to extract.                                                      \n",
       " \u001b[3m                 \u001b[0m  \u001b[3m               \u001b[0m   \u001b[3m \u001b[0m\u001b[3mdate_force_non_null    \u001b[0m\u001b[3m \u001b[0m  boolean   If set to 'True', raise   no         True                        \n",
       " \u001b[3m                 \u001b[0m  \u001b[3m               \u001b[0m   \u001b[3m                         \u001b[0m            an error if any of the                                           \n",
       " \u001b[3m                 \u001b[0m  \u001b[3m               \u001b[0m   \u001b[3m                         \u001b[0m            strings in the array                                             \n",
       " \u001b[3m                 \u001b[0m  \u001b[3m               \u001b[0m   \u001b[3m                         \u001b[0m            can't be parsed.                                                 \n",
       " \u001b[3m                 \u001b[0m  \u001b[3m               \u001b[0m   \u001b[3m \u001b[0m\u001b[3mdate_parse_min         \u001b[0m\u001b[3m \u001b[0m  integer   The minimum index from    no         11                          \n",
       " \u001b[3m                 \u001b[0m  \u001b[3m               \u001b[0m   \u001b[3m                         \u001b[0m            where to start parsing                                           \n",
       " \u001b[3m                 \u001b[0m  \u001b[3m               \u001b[0m   \u001b[3m                         \u001b[0m            the string(s).                                                   \n",
       " \u001b[3m                 \u001b[0m  \u001b[3m               \u001b[0m   \u001b[3m \u001b[0m\u001b[3mdate_parse_max         \u001b[0m\u001b[3m \u001b[0m  integer   The maximum index until   no         21                          \n",
       " \u001b[3m                 \u001b[0m  \u001b[3m               \u001b[0m   \u001b[3m                         \u001b[0m            whic to parse the                                                \n",
       " \u001b[3m                 \u001b[0m  \u001b[3m               \u001b[0m   \u001b[3m                         \u001b[0m            string(s).                                                       \n",
       " \u001b[3m                 \u001b[0m  \u001b[3m               \u001b[0m   \u001b[3m \u001b[0m\u001b[3mdate_remove_tokensl    \u001b[0m\u001b[3m \u001b[0m  list      A list of                 no         []                          \n",
       " \u001b[3m                 \u001b[0m  \u001b[3m               \u001b[0m   \u001b[3m                         \u001b[0m            tokens/characters to                                             \n",
       " \u001b[3m                 \u001b[0m  \u001b[3m               \u001b[0m   \u001b[3m                         \u001b[0m            replace with a single                                            \n",
       " \u001b[3m                 \u001b[0m  \u001b[3m               \u001b[0m   \u001b[3m                         \u001b[0m            white-space before                                               \n",
       " \u001b[3m                 \u001b[0m  \u001b[3m               \u001b[0m   \u001b[3m                         \u001b[0m            parsing the input.                                               \n",
       " \u001b[3m                 \u001b[0m  \u001b[3m               \u001b[0m   \u001b[3m \u001b[0m\u001b[3mtokenize_by_word       \u001b[0m\u001b[3m \u001b[0m  boolean   Whether to tokenize by    no         True                        \n",
       " \u001b[3m                 \u001b[0m  \u001b[3m               \u001b[0m   \u001b[3m                         \u001b[0m            word (default), or                                               \n",
       " \u001b[3m                 \u001b[0m  \u001b[3m               \u001b[0m   \u001b[3m                         \u001b[0m            character.                                                       \n",
       " \u001b[3m                 \u001b[0m  \u001b[3m               \u001b[0m   \u001b[3m \u001b[0m\u001b[3mlanguages              \u001b[0m\u001b[3m \u001b[0m  list      A list of languages,      no         ['italian']                 \n",
       " \u001b[3m                 \u001b[0m  \u001b[3m               \u001b[0m   \u001b[3m                         \u001b[0m            will be used to                                                  \n",
       " \u001b[3m                 \u001b[0m  \u001b[3m               \u001b[0m   \u001b[3m                         \u001b[0m            retrieve                                                         \n",
       " \u001b[3m                 \u001b[0m  \u001b[3m               \u001b[0m   \u001b[3m                         \u001b[0m            language-specific                                                \n",
       " \u001b[3m                 \u001b[0m  \u001b[3m               \u001b[0m   \u001b[3m                         \u001b[0m            stopword from nltk.                                              \n",
       " \u001b[3m                 \u001b[0m  \u001b[3m               \u001b[0m   \u001b[3m \u001b[0m\u001b[3mstopword_lists         \u001b[0m\u001b[3m \u001b[0m  list      A list of lists of        no         []                          \n",
       " \u001b[3m                 \u001b[0m  \u001b[3m               \u001b[0m   \u001b[3m                         \u001b[0m            stopwords.                                                       \n",
       " \u001b[3m                 \u001b[0m  \u001b[3m               \u001b[0m   \u001b[3m \u001b[0m\u001b[3mto_lowercase           \u001b[0m\u001b[3m \u001b[0m  boolean   Apply lowercasing to      no         False                       \n",
       " \u001b[3m                 \u001b[0m  \u001b[3m               \u001b[0m   \u001b[3m                         \u001b[0m            the text.                                                        \n",
       " \u001b[3m                 \u001b[0m  \u001b[3m               \u001b[0m   \u001b[3m \u001b[0m\u001b[3mremove_alphanumeric    \u001b[0m\u001b[3m \u001b[0m  boolean   Remove all tokens that    no         False                       \n",
       " \u001b[3m                 \u001b[0m  \u001b[3m               \u001b[0m   \u001b[3m                         \u001b[0m            include numbers (e.g.                                            \n",
       " \u001b[3m                 \u001b[0m  \u001b[3m               \u001b[0m   \u001b[3m                         \u001b[0m            ex1ample).                                                       \n",
       " \u001b[3m                 \u001b[0m  \u001b[3m               \u001b[0m   \u001b[3m \u001b[0m\u001b[3mremove_non_alpha       \u001b[0m\u001b[3m \u001b[0m  boolean   Remove all tokens that    no         False                       \n",
       " \u001b[3m                 \u001b[0m  \u001b[3m               \u001b[0m   \u001b[3m                         \u001b[0m            include punctuation and                                          \n",
       " \u001b[3m                 \u001b[0m  \u001b[3m               \u001b[0m   \u001b[3m                         \u001b[0m            numbers (e.g.                                                    \n",
       " \u001b[3m                 \u001b[0m  \u001b[3m               \u001b[0m   \u001b[3m                         \u001b[0m            ex1a.mple).                                                      \n",
       " \u001b[3m                 \u001b[0m  \u001b[3m               \u001b[0m   \u001b[3m \u001b[0m\u001b[3mremove_all_numeric     \u001b[0m\u001b[3m \u001b[0m  boolean   Remove all tokens that    no         False                       \n",
       " \u001b[3m                 \u001b[0m  \u001b[3m               \u001b[0m   \u001b[3m                         \u001b[0m            contain numbers only                                             \n",
       " \u001b[3m                 \u001b[0m  \u001b[3m               \u001b[0m   \u001b[3m                         \u001b[0m            (e.g. 876).                                                      \n",
       " \u001b[3m                 \u001b[0m  \u001b[3m               \u001b[0m   \u001b[3m \u001b[0m\u001b[3mremove_short_tokens    \u001b[0m\u001b[3m \u001b[0m  integer   Remove tokens shorter     no         False                       \n",
       " \u001b[3m                 \u001b[0m  \u001b[3m               \u001b[0m   \u001b[3m                         \u001b[0m            than a certain length.                                           \n",
       " \u001b[3m                 \u001b[0m  \u001b[3m               \u001b[0m   \u001b[3m                         \u001b[0m            If value is <= 0, no                                             \n",
       " \u001b[3m                 \u001b[0m  \u001b[3m               \u001b[0m   \u001b[3m                         \u001b[0m            filtering will be done.                                          \n",
       " \u001b[3m                 \u001b[0m  \u001b[3m               \u001b[0m   \u001b[3m \u001b[0m\u001b[3mnum_topics_min         \u001b[0m\u001b[3m \u001b[0m  integer   The minimal number of     no         7                           \n",
       " \u001b[3m                 \u001b[0m  \u001b[3m               \u001b[0m   \u001b[3m                         \u001b[0m            topics.                                                          \n",
       " \u001b[3m                 \u001b[0m  \u001b[3m               \u001b[0m   \u001b[3m \u001b[0m\u001b[3mnum_topics_max         \u001b[0m\u001b[3m \u001b[0m  integer   The max number of         no         7                           \n",
       " \u001b[3m                 \u001b[0m  \u001b[3m               \u001b[0m   \u001b[3m                         \u001b[0m            topics.                                                          \n",
       " \u001b[3m                 \u001b[0m  \u001b[3m               \u001b[0m   \u001b[3m \u001b[0m\u001b[3mcompute_coherence      \u001b[0m\u001b[3m \u001b[0m  boolean   Whether to compute the    no         False                       \n",
       " \u001b[3m                 \u001b[0m  \u001b[3m               \u001b[0m   \u001b[3m                         \u001b[0m            coherence score for                                              \n",
       " \u001b[3m                 \u001b[0m  \u001b[3m               \u001b[0m   \u001b[3m                         \u001b[0m            each model.                                                      \n",
       " \u001b[3m                 \u001b[0m  \u001b[3m               \u001b[0m   \u001b[3m \u001b[0m\u001b[3mwords_per_topic        \u001b[0m\u001b[3m \u001b[0m  integer   How many words per        no         10                          \n",
       " \u001b[3m                 \u001b[0m  \u001b[3m               \u001b[0m   \u001b[3m                         \u001b[0m            topic to put in the                                              \n",
       " \u001b[3m                 \u001b[0m  \u001b[3m               \u001b[0m   \u001b[3m                         \u001b[0m            result model.                                                    \n",
       " \u001b[3m                 \u001b[0m  \u001b[3m               \u001b[0m                                                                                                         \n",
       " \u001b[3m                 \u001b[0m                                                                                                                          \n",
       " \u001b[3m                 \u001b[0m  \u001b[3m \u001b[0m\u001b[3mOutputs      \u001b[0m\u001b[3m \u001b[0m                                                                                                         \n",
       " \u001b[3m                 \u001b[0m  \u001b[3m               \u001b[0m   \u001b[1m \u001b[0m\u001b[1mfield name             \u001b[0m\u001b[1m \u001b[0m \u001b[1m \u001b[0m\u001b[1mtype       \u001b[0m\u001b[1m \u001b[0m \u001b[1m \u001b[0m\u001b[1mdescription                                             \u001b[0m\u001b[1m \u001b[0m    \n",
       " \u001b[3m                 \u001b[0m  \u001b[3m               \u001b[0m   ──────────────────────────────────────────────────────────────────────────────────────────────────    \n",
       " \u001b[3m                 \u001b[0m  \u001b[3m               \u001b[0m   \u001b[3m \u001b[0m\u001b[3mtext_corpus_file_bundle\u001b[0m\u001b[3m \u001b[0m  file_bundle   The imported file bundle.                                    \n",
       " \u001b[3m                 \u001b[0m  \u001b[3m               \u001b[0m   \u001b[3m \u001b[0m\u001b[3mtext_corpus_table      \u001b[0m\u001b[3m \u001b[0m  table         The result value.                                            \n",
       " \u001b[3m                 \u001b[0m  \u001b[3m               \u001b[0m   \u001b[3m \u001b[0m\u001b[3mcontent_array          \u001b[0m\u001b[3m \u001b[0m  array         The column.                                                  \n",
       " \u001b[3m                 \u001b[0m  \u001b[3m               \u001b[0m   \u001b[3m \u001b[0m\u001b[3mdate_array             \u001b[0m\u001b[3m \u001b[0m  array         The resulting array with items of a date data type.          \n",
       " \u001b[3m                 \u001b[0m  \u001b[3m               \u001b[0m   \u001b[3m \u001b[0m\u001b[3mtokenized_corpus       \u001b[0m\u001b[3m \u001b[0m  array         The tokenized content, as an array of lists of strings.      \n",
       " \u001b[3m                 \u001b[0m  \u001b[3m               \u001b[0m   \u001b[3m \u001b[0m\u001b[3mpreprocessed_corpus    \u001b[0m\u001b[3m \u001b[0m  array         The pre-processed content, as an array of lists of           \n",
       " \u001b[3m                 \u001b[0m  \u001b[3m               \u001b[0m   \u001b[3m                         \u001b[0m                strings.                                                     \n",
       " \u001b[3m                 \u001b[0m  \u001b[3m               \u001b[0m   \u001b[3m \u001b[0m\u001b[3mtopic_models           \u001b[0m\u001b[3m \u001b[0m  dict          A dictionary with one coherence model table for each         \n",
       " \u001b[3m                 \u001b[0m  \u001b[3m               \u001b[0m   \u001b[3m                         \u001b[0m                number of topics.                                            \n",
       " \u001b[3m                 \u001b[0m  \u001b[3m               \u001b[0m   \u001b[3m \u001b[0m\u001b[3mcoherence_table        \u001b[0m\u001b[3m \u001b[0m  table         Coherence details.                                           \n",
       " \u001b[3m                 \u001b[0m  \u001b[3m               \u001b[0m   \u001b[3m \u001b[0m\u001b[3mcoherence_map          \u001b[0m\u001b[3m \u001b[0m  dict          A map with the coherence value for every number of           \n",
       " \u001b[3m                 \u001b[0m  \u001b[3m               \u001b[0m   \u001b[3m                         \u001b[0m                topics.                                                      \n",
       " \u001b[3m                 \u001b[0m  \u001b[3m               \u001b[0m                                                                                                         \n",
       " \u001b[3m                 \u001b[0m                                                                                                                          \n",
       "                                                                                                                                            \n"
      ]
     },
     "execution_count": 28,
     "metadata": {},
     "output_type": "execute_result"
    }
   ],
   "source": [
    "api.get_operation_info('topic_modeling')"
   ]
  },
  {
   "cell_type": "markdown",
   "metadata": {},
   "source": [
    "#### 2. Lineage data for the onboarding step"
   ]
  },
  {
   "cell_type": "markdown",
   "metadata": {},
   "source": [
    "- Data onboarding"
   ]
  },
  {
   "cell_type": "code",
   "execution_count": 29,
   "metadata": {},
   "outputs": [],
   "source": [
    "# add local path to example dataset, for example: https://github.com/DHARPA-Project/kiara.examples/tree/main/examples/data/text_corpus\n",
    "folder_path = '/Users/mariella.decrouychan/Documents/GitHub/kiara_plugin.playground/examples/data/CI_newspaper_subcorpora'"
   ]
  },
  {
   "cell_type": "code",
   "execution_count": 30,
   "metadata": {},
   "outputs": [],
   "source": [
    "# choose general alias related to the current data prep (to be able to easily spot data created now in data registry)\n",
    "gen_alias = 'test3oct22'"
   ]
  },
  {
   "cell_type": "code",
   "execution_count": 31,
   "metadata": {},
   "outputs": [],
   "source": [
    "onboarding_result = api.run_job(operation=\"tm_onboarding\", inputs={'folder_path':folder_path})"
   ]
  },
  {
   "cell_type": "code",
   "execution_count": 32,
   "metadata": {},
   "outputs": [
    {
     "data": {
      "text/plain": [
       "StoreValueResult(value=Value(id=552718d6-4f10-400f-b7a9-5f6790de6333, type=table, status=set, initialized=True optional=False), aliases=['tm_test3oct22_onboard'], persisted_data=None, error=None)"
      ]
     },
     "execution_count": 32,
     "metadata": {},
     "output_type": "execute_result"
    }
   ],
   "source": [
    "table = onboarding_result[\"corpus_table\"]\n",
    "api.store_value(table, f'tm_{gen_alias}_onboard')"
   ]
  },
  {
   "cell_type": "code",
   "execution_count": 33,
   "metadata": {},
   "outputs": [
    {
     "name": "stdout",
     "output_type": "stream",
     "text": [
      "\n",
      "╭─ Available aliases ──────────────────────────────────────────────────────────╮\n",
      "│                                                                              │\n",
      "│  \u001b[1m \u001b[0m\u001b[1malias                \u001b[0m\u001b[1m \u001b[0m \u001b[1m \u001b[0m\u001b[1mtype \u001b[0m\u001b[1m \u001b[0m \u001b[1m \u001b[0m\u001b[1m    size\u001b[0m\u001b[1m \u001b[0m                                  │\n",
      "│  ──────────────────────────────────────────                                  │\n",
      "│   tm_test3oct22_onboard   table   16.06 MB                                   │\n",
      "│                                                                              │\n",
      "╰──────────────────────────────────────────────────────────────────────────────╯\n"
     ]
    }
   ],
   "source": [
    "# checking how that would appear in CLI\n",
    "! kiara data list"
   ]
  },
  {
   "cell_type": "markdown",
   "metadata": {},
   "source": [
    "- lineage data preparation"
   ]
  },
  {
   "cell_type": "code",
   "execution_count": 34,
   "metadata": {},
   "outputs": [],
   "source": [
    "value = api.get_value(value='tm_test3oct22_onboard')"
   ]
  },
  {
   "cell_type": "code",
   "execution_count": 35,
   "metadata": {},
   "outputs": [],
   "source": [
    "graph = value.lineage.module_graph\n",
    "result = json_graph.node_link_data(graph)"
   ]
  },
  {
   "cell_type": "code",
   "execution_count": 36,
   "metadata": {},
   "outputs": [
    {
     "data": {
      "text/plain": [
       "{'directed': True,\n",
       " 'multigraph': False,\n",
       " 'graph': {},\n",
       " 'nodes': [{'data_type': 'table',\n",
       "   'label': '[this value]',\n",
       "   'node_type': 'value',\n",
       "   'data_type_config': {},\n",
       "   'level': 1,\n",
       "   'id': 'value:552718d6-4f10-400f-b7a9-5f6790de6333'},\n",
       "  {'module_type': 'create.table',\n",
       "   'module_config': {'constants': {},\n",
       "    'defaults': {},\n",
       "    'source_type': 'text_file_bundle',\n",
       "    'target_type': 'table',\n",
       "    'ignore_errors': False},\n",
       "   'label': 'create.table',\n",
       "   'node_type': 'operation',\n",
       "   'level': 3,\n",
       "   'id': 'module:zdpuAqGye5Jd79Ae2t7pa5Q2bz4H7PwMoSVyfY6vXnpL5z8Xx'},\n",
       "  {'module_type': 'import.file_bundle',\n",
       "   'module_config': {'constants': {}, 'defaults': {}},\n",
       "   'label': 'import.file_bundle',\n",
       "   'node_type': 'operation',\n",
       "   'level': 5,\n",
       "   'id': 'module:zdpuApZCg4Kvf7BzkNyJd3YZD8ih9kPdg7qPAbYr4D35Fj1VW'},\n",
       "  {'label': 'path (string)',\n",
       "   'node_type': 'value',\n",
       "   'data_type': 'string',\n",
       "   'data_type_config': {},\n",
       "   'level': 6,\n",
       "   'id': 'value:f4663d01-3c01-4d24-9be5-907f03410767'}],\n",
       " 'links': [{'id': 'value:552718d6-4f10-400f-b7a9-5f6790de6333:module:zdpuAqGye5Jd79Ae2t7pa5Q2bz4H7PwMoSVyfY6vXnpL5z8Xx',\n",
       "   'field_name': 'table',\n",
       "   'label': 'table (table)',\n",
       "   'source': 'module:zdpuAqGye5Jd79Ae2t7pa5Q2bz4H7PwMoSVyfY6vXnpL5z8Xx',\n",
       "   'target': 'value:552718d6-4f10-400f-b7a9-5f6790de6333'},\n",
       "  {'id': 'module:zdpuAqGye5Jd79Ae2t7pa5Q2bz4H7PwMoSVyfY6vXnpL5z8Xx:text_file_bundle',\n",
       "   'field_name': 'text_file_bundle',\n",
       "   'label': 'text_file_bundle (file_bundle)',\n",
       "   'source': 'module:zdpuApZCg4Kvf7BzkNyJd3YZD8ih9kPdg7qPAbYr4D35Fj1VW',\n",
       "   'target': 'module:zdpuAqGye5Jd79Ae2t7pa5Q2bz4H7PwMoSVyfY6vXnpL5z8Xx'},\n",
       "  {'id': 'module:zdpuApZCg4Kvf7BzkNyJd3YZD8ih9kPdg7qPAbYr4D35Fj1VW:value:f4663d01-3c01-4d24-9be5-907f03410767',\n",
       "   'field_name': 'path',\n",
       "   'label': 'path (string)',\n",
       "   'source': 'value:f4663d01-3c01-4d24-9be5-907f03410767',\n",
       "   'target': 'module:zdpuApZCg4Kvf7BzkNyJd3YZD8ih9kPdg7qPAbYr4D35Fj1VW'}]}"
      ]
     },
     "execution_count": 36,
     "metadata": {},
     "output_type": "execute_result"
    }
   ],
   "source": [
    "result"
   ]
  },
  {
   "cell_type": "code",
   "execution_count": 39,
   "metadata": {},
   "outputs": [],
   "source": [
    "nodes = graph.nodes.data()\n",
    "augmented_nodes = dict()"
   ]
  },
  {
   "cell_type": "markdown",
   "metadata": {},
   "source": [
    "- (message for Markus): cell below here is where the additional info would be needed"
   ]
  },
  {
   "cell_type": "code",
   "execution_count": 44,
   "metadata": {},
   "outputs": [],
   "source": [
    "for idx, node in enumerate(nodes): \n",
    "    # printing out the content to make obvious what is in there\n",
    "    # what would be needed here is info about input value (and not only type), and module info (doc)\n",
    "    print(node[1])\n",
    "    node_dict = {\n",
    "        \"id\": node[0],\n",
    "        \"desc\": node[1],\n",
    "        \"parentIds\": [pred for pred in graph.predecessors(node[0])]\n",
    "    }\n",
    "    augmented_nodes[idx] = node_dict"
   ]
  },
  {
   "cell_type": "code",
   "execution_count": 45,
   "metadata": {},
   "outputs": [
    {
     "data": {
      "text/plain": [
       "{0: {'id': 'value:552718d6-4f10-400f-b7a9-5f6790de6333',\n",
       "  'desc': {'data_type': 'table',\n",
       "   'label': '[this value]',\n",
       "   'node_type': 'value',\n",
       "   'data_type_config': {},\n",
       "   'level': 1},\n",
       "  'parentIds': ['module:zdpuAqGye5Jd79Ae2t7pa5Q2bz4H7PwMoSVyfY6vXnpL5z8Xx']},\n",
       " 1: {'id': 'module:zdpuAqGye5Jd79Ae2t7pa5Q2bz4H7PwMoSVyfY6vXnpL5z8Xx',\n",
       "  'desc': {'module_type': 'create.table',\n",
       "   'module_config': {'constants': {},\n",
       "    'defaults': {},\n",
       "    'source_type': 'text_file_bundle',\n",
       "    'target_type': 'table',\n",
       "    'ignore_errors': False},\n",
       "   'label': 'create.table',\n",
       "   'node_type': 'operation',\n",
       "   'level': 3},\n",
       "  'parentIds': ['module:zdpuApZCg4Kvf7BzkNyJd3YZD8ih9kPdg7qPAbYr4D35Fj1VW']},\n",
       " 2: {'id': 'module:zdpuApZCg4Kvf7BzkNyJd3YZD8ih9kPdg7qPAbYr4D35Fj1VW',\n",
       "  'desc': {'module_type': 'import.file_bundle',\n",
       "   'module_config': {'constants': {}, 'defaults': {}},\n",
       "   'label': 'import.file_bundle',\n",
       "   'node_type': 'operation',\n",
       "   'level': 5},\n",
       "  'parentIds': ['value:f4663d01-3c01-4d24-9be5-907f03410767']},\n",
       " 3: {'id': 'value:f4663d01-3c01-4d24-9be5-907f03410767',\n",
       "  'desc': {'label': 'path (string)',\n",
       "   'node_type': 'value',\n",
       "   'data_type': 'string',\n",
       "   'data_type_config': {},\n",
       "   'level': 6},\n",
       "  'parentIds': []}}"
      ]
     },
     "execution_count": 45,
     "metadata": {},
     "output_type": "execute_result"
    }
   ],
   "source": [
    "augmented_nodes"
   ]
  },
  {
   "cell_type": "code",
   "execution_count": 47,
   "metadata": {},
   "outputs": [],
   "source": [
    "# uncomment to export dataset for the viz\n",
    "\n",
    "# res = json.dumps(augmented_nodes)\n",
    "# with open(\"test_data.json\", \"w\") as outfile:\n",
    "#     outfile.write(res)"
   ]
  },
  {
   "cell_type": "markdown",
   "metadata": {},
   "source": [
    "#### 3. Lineage data for nlp step"
   ]
  },
  {
   "cell_type": "markdown",
   "metadata": {},
   "source": [
    "- running the example TM pipeline with previously onboarded data"
   ]
  },
  {
   "cell_type": "code",
   "execution_count": 51,
   "metadata": {},
   "outputs": [],
   "source": [
    "nlp_step = api.run_job(operation=\"topic_modeling\", inputs={'text_corpus_folder_path': folder_path})"
   ]
  },
  {
   "cell_type": "code",
   "execution_count": 52,
   "metadata": {},
   "outputs": [
    {
     "data": {
      "text/plain": [
       "StoreValueResult(value=Value(id=adf031bf-c26a-4c69-ab5e-f16dfd0e8b3d, type=array, status=set, initialized=True optional=False), aliases=['tm_test3oct22_preprocessed_corpus'], persisted_data=PersistedData(model_id=zdpuAsh9pUJAw8VZ2H6zF9WgYWhpAgFznrBAcV6PMZK8RnN32, category=instance.persisted_data, fields=[data_type, data_type_config, serialization_profile, metadata, hash_codec, archive_id, chunk_id_map]), error=None)"
      ]
     },
     "execution_count": 52,
     "metadata": {},
     "output_type": "execute_result"
    }
   ],
   "source": [
    "table = nlp_step[\"preprocessed_corpus\"]\n",
    "api.store_value(table, f'tm_{gen_alias}_preprocessed_corpus')"
   ]
  },
  {
   "cell_type": "code",
   "execution_count": 53,
   "metadata": {},
   "outputs": [
    {
     "name": "stdout",
     "output_type": "stream",
     "text": [
      "\n",
      "╭─ Available aliases ──────────────────────────────────────────────────────────╮\n",
      "│                                                                              │\n",
      "│  \u001b[1m \u001b[0m\u001b[1malias                            \u001b[0m\u001b[1m \u001b[0m \u001b[1m \u001b[0m\u001b[1mtype \u001b[0m\u001b[1m \u001b[0m \u001b[1m \u001b[0m\u001b[1m    size\u001b[0m\u001b[1m \u001b[0m                      │\n",
      "│  ──────────────────────────────────────────────────────                      │\n",
      "│   tm_test3oct22_onboard               table   16.06 MB                       │\n",
      "│   tm_test3oct22_preprocessed_corpus   array   26.64 MB                       │\n",
      "│                                                                              │\n",
      "╰──────────────────────────────────────────────────────────────────────────────╯\n"
     ]
    }
   ],
   "source": [
    "!kiara data list"
   ]
  },
  {
   "cell_type": "markdown",
   "metadata": {},
   "source": [
    "- lineage data preparation"
   ]
  },
  {
   "cell_type": "code",
   "execution_count": 54,
   "metadata": {},
   "outputs": [],
   "source": [
    "value = api.get_value(value='tm_test3oct22_preprocessed_corpus')"
   ]
  },
  {
   "cell_type": "code",
   "execution_count": 55,
   "metadata": {},
   "outputs": [],
   "source": [
    "graph = value.lineage.module_graph\n",
    "result = json_graph.node_link_data(graph)"
   ]
  },
  {
   "cell_type": "code",
   "execution_count": 56,
   "metadata": {},
   "outputs": [
    {
     "data": {
      "text/plain": [
       "{'directed': True,\n",
       " 'multigraph': False,\n",
       " 'graph': {},\n",
       " 'nodes': [{'data_type': 'array',\n",
       "   'label': '[this value]',\n",
       "   'node_type': 'value',\n",
       "   'data_type_config': {},\n",
       "   'level': 1,\n",
       "   'id': 'value:adf031bf-c26a-4c69-ab5e-f16dfd0e8b3d'},\n",
       "  {'module_type': 'preprocess.tokens_array',\n",
       "   'module_config': {'constants': {}, 'defaults': {}},\n",
       "   'label': 'preprocess.tokens_array',\n",
       "   'node_type': 'operation',\n",
       "   'level': 3,\n",
       "   'id': 'module:zdpuAncTwo9pDiXGFdUFmVSbbyh4xyC3NkhcWGTruDJh9uE4V'},\n",
       "  {'label': 'to_lowercase (boolean)',\n",
       "   'node_type': 'value',\n",
       "   'data_type': 'boolean',\n",
       "   'data_type_config': {},\n",
       "   'level': 4,\n",
       "   'id': 'value:19a56a11-3553-42d6-9d46-d8821157f992'},\n",
       "  {'label': 'remove_short_tokens (integer)',\n",
       "   'node_type': 'value',\n",
       "   'data_type': 'integer',\n",
       "   'data_type_config': {},\n",
       "   'level': 4,\n",
       "   'id': 'value:ad9909ee-827e-4968-a18c-b7a3f9c52cc3'},\n",
       "  {'module_type': 'create.stopwords_list',\n",
       "   'module_config': {'constants': {}, 'defaults': {}},\n",
       "   'label': 'create.stopwords_list',\n",
       "   'node_type': 'operation',\n",
       "   'level': 5,\n",
       "   'id': 'module:zdpuAqkshVC2VdPNuL1qJUukbLDosgnffaL5WwnXMZV2GAM9q'},\n",
       "  {'label': 'languages (list)',\n",
       "   'node_type': 'value',\n",
       "   'data_type': 'list',\n",
       "   'data_type_config': {},\n",
       "   'level': 6,\n",
       "   'id': 'value:eeed3bd9-3b73-483c-9ddb-a82b5321260f'},\n",
       "  {'label': 'stopword_lists (list)',\n",
       "   'node_type': 'value',\n",
       "   'data_type': 'list',\n",
       "   'data_type_config': {},\n",
       "   'level': 6,\n",
       "   'id': 'value:c29d1d1e-2bfe-44fa-b659-acf2a8f0b6fc'},\n",
       "  {'module_type': 'tokenize.texts_array',\n",
       "   'module_config': {'constants': {}, 'defaults': {}},\n",
       "   'label': 'tokenize.texts_array',\n",
       "   'node_type': 'operation',\n",
       "   'level': 5,\n",
       "   'id': 'module:zdpuAtk17r31968BYdD7oNbRefp133rquw71Xi12CxdKs8wpt'},\n",
       "  {'module_type': 'table.cut_column',\n",
       "   'module_config': {'constants': {}, 'defaults': {}},\n",
       "   'label': 'table.cut_column',\n",
       "   'node_type': 'operation',\n",
       "   'level': 7,\n",
       "   'id': 'module:zdpuB3BAgnkiQyNcPTCuKgemWEn6tP7WBaacTExqZ9fQFrsag'},\n",
       "  {'label': 'column_name (string)',\n",
       "   'node_type': 'value',\n",
       "   'data_type': 'string',\n",
       "   'data_type_config': {},\n",
       "   'level': 8,\n",
       "   'id': 'value:d99a2559-71cf-460e-be26-964599db784b'},\n",
       "  {'module_type': 'create.table',\n",
       "   'module_config': {'constants': {},\n",
       "    'defaults': {},\n",
       "    'source_type': 'text_file_bundle',\n",
       "    'target_type': 'table',\n",
       "    'ignore_errors': False},\n",
       "   'label': 'create.table',\n",
       "   'node_type': 'operation',\n",
       "   'level': 9,\n",
       "   'id': 'module:zdpuAqGye5Jd79Ae2t7pa5Q2bz4H7PwMoSVyfY6vXnpL5z8Xx'},\n",
       "  {'module_type': 'import.file_bundle',\n",
       "   'module_config': {'constants': {}, 'defaults': {}},\n",
       "   'label': 'import.file_bundle',\n",
       "   'node_type': 'operation',\n",
       "   'level': 11,\n",
       "   'id': 'module:zdpuApZCg4Kvf7BzkNyJd3YZD8ih9kPdg7qPAbYr4D35Fj1VW'},\n",
       "  {'label': 'path (string)',\n",
       "   'node_type': 'value',\n",
       "   'data_type': 'string',\n",
       "   'data_type_config': {},\n",
       "   'level': 12,\n",
       "   'id': 'value:f4663d01-3c01-4d24-9be5-907f03410767'},\n",
       "  {'label': 'tokenize_by_word (boolean)',\n",
       "   'node_type': 'value',\n",
       "   'data_type': 'boolean',\n",
       "   'data_type_config': {},\n",
       "   'level': 6,\n",
       "   'id': 'value:392321b7-12be-49aa-a48d-e06c11bade72'}],\n",
       " 'links': [{'id': 'value:adf031bf-c26a-4c69-ab5e-f16dfd0e8b3d:module:zdpuAncTwo9pDiXGFdUFmVSbbyh4xyC3NkhcWGTruDJh9uE4V',\n",
       "   'field_name': 'tokens_array',\n",
       "   'label': 'tokens_array (array)',\n",
       "   'source': 'module:zdpuAncTwo9pDiXGFdUFmVSbbyh4xyC3NkhcWGTruDJh9uE4V',\n",
       "   'target': 'value:adf031bf-c26a-4c69-ab5e-f16dfd0e8b3d'},\n",
       "  {'id': 'module:zdpuAncTwo9pDiXGFdUFmVSbbyh4xyC3NkhcWGTruDJh9uE4V:value:19a56a11-3553-42d6-9d46-d8821157f992',\n",
       "   'field_name': 'to_lowercase',\n",
       "   'label': 'to_lowercase (boolean)',\n",
       "   'source': 'value:19a56a11-3553-42d6-9d46-d8821157f992',\n",
       "   'target': 'module:zdpuAncTwo9pDiXGFdUFmVSbbyh4xyC3NkhcWGTruDJh9uE4V'},\n",
       "  {'id': 'module:zdpuAncTwo9pDiXGFdUFmVSbbyh4xyC3NkhcWGTruDJh9uE4V:value:ad9909ee-827e-4968-a18c-b7a3f9c52cc3',\n",
       "   'field_name': 'remove_short_tokens',\n",
       "   'label': 'remove_short_tokens (integer)',\n",
       "   'source': 'value:ad9909ee-827e-4968-a18c-b7a3f9c52cc3',\n",
       "   'target': 'module:zdpuAncTwo9pDiXGFdUFmVSbbyh4xyC3NkhcWGTruDJh9uE4V'},\n",
       "  {'id': 'module:zdpuAncTwo9pDiXGFdUFmVSbbyh4xyC3NkhcWGTruDJh9uE4V:remove_stopwords',\n",
       "   'field_name': 'remove_stopwords',\n",
       "   'label': 'remove_stopwords (list)',\n",
       "   'source': 'module:zdpuAqkshVC2VdPNuL1qJUukbLDosgnffaL5WwnXMZV2GAM9q',\n",
       "   'target': 'module:zdpuAncTwo9pDiXGFdUFmVSbbyh4xyC3NkhcWGTruDJh9uE4V'},\n",
       "  {'id': 'module:zdpuAqkshVC2VdPNuL1qJUukbLDosgnffaL5WwnXMZV2GAM9q:value:eeed3bd9-3b73-483c-9ddb-a82b5321260f',\n",
       "   'field_name': 'languages',\n",
       "   'label': 'languages (list)',\n",
       "   'source': 'value:eeed3bd9-3b73-483c-9ddb-a82b5321260f',\n",
       "   'target': 'module:zdpuAqkshVC2VdPNuL1qJUukbLDosgnffaL5WwnXMZV2GAM9q'},\n",
       "  {'id': 'module:zdpuAqkshVC2VdPNuL1qJUukbLDosgnffaL5WwnXMZV2GAM9q:value:c29d1d1e-2bfe-44fa-b659-acf2a8f0b6fc',\n",
       "   'field_name': 'stopword_lists',\n",
       "   'label': 'stopword_lists (list)',\n",
       "   'source': 'value:c29d1d1e-2bfe-44fa-b659-acf2a8f0b6fc',\n",
       "   'target': 'module:zdpuAqkshVC2VdPNuL1qJUukbLDosgnffaL5WwnXMZV2GAM9q'},\n",
       "  {'id': 'module:zdpuAncTwo9pDiXGFdUFmVSbbyh4xyC3NkhcWGTruDJh9uE4V:tokens_array',\n",
       "   'field_name': 'tokens_array',\n",
       "   'label': 'tokens_array (array)',\n",
       "   'source': 'module:zdpuAtk17r31968BYdD7oNbRefp133rquw71Xi12CxdKs8wpt',\n",
       "   'target': 'module:zdpuAncTwo9pDiXGFdUFmVSbbyh4xyC3NkhcWGTruDJh9uE4V'},\n",
       "  {'id': 'module:zdpuAtk17r31968BYdD7oNbRefp133rquw71Xi12CxdKs8wpt:texts_array',\n",
       "   'field_name': 'texts_array',\n",
       "   'label': 'texts_array (array)',\n",
       "   'source': 'module:zdpuB3BAgnkiQyNcPTCuKgemWEn6tP7WBaacTExqZ9fQFrsag',\n",
       "   'target': 'module:zdpuAtk17r31968BYdD7oNbRefp133rquw71Xi12CxdKs8wpt'},\n",
       "  {'id': 'module:zdpuB3BAgnkiQyNcPTCuKgemWEn6tP7WBaacTExqZ9fQFrsag:value:d99a2559-71cf-460e-be26-964599db784b',\n",
       "   'field_name': 'column_name',\n",
       "   'label': 'column_name (string)',\n",
       "   'source': 'value:d99a2559-71cf-460e-be26-964599db784b',\n",
       "   'target': 'module:zdpuB3BAgnkiQyNcPTCuKgemWEn6tP7WBaacTExqZ9fQFrsag'},\n",
       "  {'id': 'module:zdpuB3BAgnkiQyNcPTCuKgemWEn6tP7WBaacTExqZ9fQFrsag:table',\n",
       "   'field_name': 'table',\n",
       "   'label': 'table (table)',\n",
       "   'source': 'module:zdpuAqGye5Jd79Ae2t7pa5Q2bz4H7PwMoSVyfY6vXnpL5z8Xx',\n",
       "   'target': 'module:zdpuB3BAgnkiQyNcPTCuKgemWEn6tP7WBaacTExqZ9fQFrsag'},\n",
       "  {'id': 'module:zdpuAqGye5Jd79Ae2t7pa5Q2bz4H7PwMoSVyfY6vXnpL5z8Xx:text_file_bundle',\n",
       "   'field_name': 'text_file_bundle',\n",
       "   'label': 'text_file_bundle (file_bundle)',\n",
       "   'source': 'module:zdpuApZCg4Kvf7BzkNyJd3YZD8ih9kPdg7qPAbYr4D35Fj1VW',\n",
       "   'target': 'module:zdpuAqGye5Jd79Ae2t7pa5Q2bz4H7PwMoSVyfY6vXnpL5z8Xx'},\n",
       "  {'id': 'module:zdpuApZCg4Kvf7BzkNyJd3YZD8ih9kPdg7qPAbYr4D35Fj1VW:value:f4663d01-3c01-4d24-9be5-907f03410767',\n",
       "   'field_name': 'path',\n",
       "   'label': 'path (string)',\n",
       "   'source': 'value:f4663d01-3c01-4d24-9be5-907f03410767',\n",
       "   'target': 'module:zdpuApZCg4Kvf7BzkNyJd3YZD8ih9kPdg7qPAbYr4D35Fj1VW'},\n",
       "  {'id': 'module:zdpuAtk17r31968BYdD7oNbRefp133rquw71Xi12CxdKs8wpt:value:392321b7-12be-49aa-a48d-e06c11bade72',\n",
       "   'field_name': 'tokenize_by_word',\n",
       "   'label': 'tokenize_by_word (boolean)',\n",
       "   'source': 'value:392321b7-12be-49aa-a48d-e06c11bade72',\n",
       "   'target': 'module:zdpuAtk17r31968BYdD7oNbRefp133rquw71Xi12CxdKs8wpt'}]}"
      ]
     },
     "execution_count": 56,
     "metadata": {},
     "output_type": "execute_result"
    }
   ],
   "source": [
    "result"
   ]
  },
  {
   "cell_type": "code",
   "execution_count": 57,
   "metadata": {},
   "outputs": [],
   "source": [
    "nodes = graph.nodes.data()\n",
    "augmented_nodes = dict()"
   ]
  },
  {
   "cell_type": "markdown",
   "metadata": {},
   "source": [
    "- (message for Markus): cell below here is where the additional info would be needed"
   ]
  },
  {
   "cell_type": "code",
   "execution_count": 58,
   "metadata": {},
   "outputs": [],
   "source": [
    "for idx, node in enumerate(nodes): \n",
    "    # printing out the content to make obvious what is in there\n",
    "    # what would be needed here is info about input value (and not only type), and module info (doc)\n",
    "   \n",
    "    node_dict = {\n",
    "        \"id\": node[0],\n",
    "        \"desc\": node[1],\n",
    "        \"parentIds\": [pred for pred in graph.predecessors(node[0])]\n",
    "    }\n",
    "    augmented_nodes[idx] = node_dict"
   ]
  },
  {
   "cell_type": "code",
   "execution_count": 59,
   "metadata": {},
   "outputs": [
    {
     "data": {
      "text/plain": [
       "{0: {'id': 'value:adf031bf-c26a-4c69-ab5e-f16dfd0e8b3d',\n",
       "  'desc': {'data_type': 'array',\n",
       "   'label': '[this value]',\n",
       "   'node_type': 'value',\n",
       "   'data_type_config': {},\n",
       "   'level': 1},\n",
       "  'parentIds': ['module:zdpuAncTwo9pDiXGFdUFmVSbbyh4xyC3NkhcWGTruDJh9uE4V']},\n",
       " 1: {'id': 'module:zdpuAncTwo9pDiXGFdUFmVSbbyh4xyC3NkhcWGTruDJh9uE4V',\n",
       "  'desc': {'module_type': 'preprocess.tokens_array',\n",
       "   'module_config': {'constants': {}, 'defaults': {}},\n",
       "   'label': 'preprocess.tokens_array',\n",
       "   'node_type': 'operation',\n",
       "   'level': 3},\n",
       "  'parentIds': ['value:19a56a11-3553-42d6-9d46-d8821157f992',\n",
       "   'value:ad9909ee-827e-4968-a18c-b7a3f9c52cc3',\n",
       "   'module:zdpuAqkshVC2VdPNuL1qJUukbLDosgnffaL5WwnXMZV2GAM9q',\n",
       "   'module:zdpuAtk17r31968BYdD7oNbRefp133rquw71Xi12CxdKs8wpt']},\n",
       " 2: {'id': 'value:19a56a11-3553-42d6-9d46-d8821157f992',\n",
       "  'desc': {'label': 'to_lowercase (boolean)',\n",
       "   'node_type': 'value',\n",
       "   'data_type': 'boolean',\n",
       "   'data_type_config': {},\n",
       "   'level': 4},\n",
       "  'parentIds': []},\n",
       " 3: {'id': 'value:ad9909ee-827e-4968-a18c-b7a3f9c52cc3',\n",
       "  'desc': {'label': 'remove_short_tokens (integer)',\n",
       "   'node_type': 'value',\n",
       "   'data_type': 'integer',\n",
       "   'data_type_config': {},\n",
       "   'level': 4},\n",
       "  'parentIds': []},\n",
       " 4: {'id': 'module:zdpuAqkshVC2VdPNuL1qJUukbLDosgnffaL5WwnXMZV2GAM9q',\n",
       "  'desc': {'module_type': 'create.stopwords_list',\n",
       "   'module_config': {'constants': {}, 'defaults': {}},\n",
       "   'label': 'create.stopwords_list',\n",
       "   'node_type': 'operation',\n",
       "   'level': 5},\n",
       "  'parentIds': ['value:eeed3bd9-3b73-483c-9ddb-a82b5321260f',\n",
       "   'value:c29d1d1e-2bfe-44fa-b659-acf2a8f0b6fc']},\n",
       " 5: {'id': 'value:eeed3bd9-3b73-483c-9ddb-a82b5321260f',\n",
       "  'desc': {'label': 'languages (list)',\n",
       "   'node_type': 'value',\n",
       "   'data_type': 'list',\n",
       "   'data_type_config': {},\n",
       "   'level': 6},\n",
       "  'parentIds': []},\n",
       " 6: {'id': 'value:c29d1d1e-2bfe-44fa-b659-acf2a8f0b6fc',\n",
       "  'desc': {'label': 'stopword_lists (list)',\n",
       "   'node_type': 'value',\n",
       "   'data_type': 'list',\n",
       "   'data_type_config': {},\n",
       "   'level': 6},\n",
       "  'parentIds': []},\n",
       " 7: {'id': 'module:zdpuAtk17r31968BYdD7oNbRefp133rquw71Xi12CxdKs8wpt',\n",
       "  'desc': {'module_type': 'tokenize.texts_array',\n",
       "   'module_config': {'constants': {}, 'defaults': {}},\n",
       "   'label': 'tokenize.texts_array',\n",
       "   'node_type': 'operation',\n",
       "   'level': 5},\n",
       "  'parentIds': ['module:zdpuB3BAgnkiQyNcPTCuKgemWEn6tP7WBaacTExqZ9fQFrsag',\n",
       "   'value:392321b7-12be-49aa-a48d-e06c11bade72']},\n",
       " 8: {'id': 'module:zdpuB3BAgnkiQyNcPTCuKgemWEn6tP7WBaacTExqZ9fQFrsag',\n",
       "  'desc': {'module_type': 'table.cut_column',\n",
       "   'module_config': {'constants': {}, 'defaults': {}},\n",
       "   'label': 'table.cut_column',\n",
       "   'node_type': 'operation',\n",
       "   'level': 7},\n",
       "  'parentIds': ['value:d99a2559-71cf-460e-be26-964599db784b',\n",
       "   'module:zdpuAqGye5Jd79Ae2t7pa5Q2bz4H7PwMoSVyfY6vXnpL5z8Xx']},\n",
       " 9: {'id': 'value:d99a2559-71cf-460e-be26-964599db784b',\n",
       "  'desc': {'label': 'column_name (string)',\n",
       "   'node_type': 'value',\n",
       "   'data_type': 'string',\n",
       "   'data_type_config': {},\n",
       "   'level': 8},\n",
       "  'parentIds': []},\n",
       " 10: {'id': 'module:zdpuAqGye5Jd79Ae2t7pa5Q2bz4H7PwMoSVyfY6vXnpL5z8Xx',\n",
       "  'desc': {'module_type': 'create.table',\n",
       "   'module_config': {'constants': {},\n",
       "    'defaults': {},\n",
       "    'source_type': 'text_file_bundle',\n",
       "    'target_type': 'table',\n",
       "    'ignore_errors': False},\n",
       "   'label': 'create.table',\n",
       "   'node_type': 'operation',\n",
       "   'level': 9},\n",
       "  'parentIds': ['module:zdpuApZCg4Kvf7BzkNyJd3YZD8ih9kPdg7qPAbYr4D35Fj1VW']},\n",
       " 11: {'id': 'module:zdpuApZCg4Kvf7BzkNyJd3YZD8ih9kPdg7qPAbYr4D35Fj1VW',\n",
       "  'desc': {'module_type': 'import.file_bundle',\n",
       "   'module_config': {'constants': {}, 'defaults': {}},\n",
       "   'label': 'import.file_bundle',\n",
       "   'node_type': 'operation',\n",
       "   'level': 11},\n",
       "  'parentIds': ['value:f4663d01-3c01-4d24-9be5-907f03410767']},\n",
       " 12: {'id': 'value:f4663d01-3c01-4d24-9be5-907f03410767',\n",
       "  'desc': {'label': 'path (string)',\n",
       "   'node_type': 'value',\n",
       "   'data_type': 'string',\n",
       "   'data_type_config': {},\n",
       "   'level': 12},\n",
       "  'parentIds': []},\n",
       " 13: {'id': 'value:392321b7-12be-49aa-a48d-e06c11bade72',\n",
       "  'desc': {'label': 'tokenize_by_word (boolean)',\n",
       "   'node_type': 'value',\n",
       "   'data_type': 'boolean',\n",
       "   'data_type_config': {},\n",
       "   'level': 6},\n",
       "  'parentIds': []}}"
      ]
     },
     "execution_count": 59,
     "metadata": {},
     "output_type": "execute_result"
    }
   ],
   "source": [
    "augmented_nodes"
   ]
  },
  {
   "cell_type": "code",
   "execution_count": 60,
   "metadata": {},
   "outputs": [],
   "source": [
    "# uncomment to export dataset for the viz\n",
    "\n",
    "# res = json.dumps(augmented_nodes)\n",
    "# with open(\"test_data2.json\", \"w\") as outfile:\n",
    "#     outfile.write(res)"
   ]
  },
  {
   "cell_type": "code",
   "execution_count": null,
   "metadata": {},
   "outputs": [],
   "source": []
  }
 ],
 "metadata": {
  "kernelspec": {
   "display_name": "Python 3.9.13 ('lineage_data')",
   "language": "python",
   "name": "python3"
  },
  "language_info": {
   "codemirror_mode": {
    "name": "ipython",
    "version": 3
   },
   "file_extension": ".py",
   "mimetype": "text/x-python",
   "name": "python",
   "nbconvert_exporter": "python",
   "pygments_lexer": "ipython3",
   "version": "3.9.13"
  },
  "orig_nbformat": 4,
  "vscode": {
   "interpreter": {
    "hash": "228375bcce0a8956ce89b9643fa60a5b1cfe58b66397d54e952582f12d844562"
   }
  }
 },
 "nbformat": 4,
 "nbformat_minor": 2
}
