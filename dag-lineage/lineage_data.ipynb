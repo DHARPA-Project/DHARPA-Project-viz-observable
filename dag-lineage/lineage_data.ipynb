{
 "cells": [
  {
   "cell_type": "code",
   "execution_count": 27,
   "metadata": {},
   "outputs": [],
   "source": [
    "# before running notebook, follow steps to install Kiara examples:\n",
    "# https://github.com/DHARPA-Project/kiara.examples"
   ]
  },
  {
   "cell_type": "code",
   "execution_count": 1,
   "metadata": {},
   "outputs": [],
   "source": [
    "from kiara import KiaraAPI, Kiara\n",
    "import networkx\n",
    "from networkx.readwrite import json_graph"
   ]
  },
  {
   "cell_type": "code",
   "execution_count": 2,
   "metadata": {},
   "outputs": [],
   "source": [
    "kiara = Kiara.instance()\n",
    "api = KiaraAPI(kiara=kiara)"
   ]
  },
  {
   "cell_type": "code",
   "execution_count": 3,
   "metadata": {},
   "outputs": [
    {
     "name": "stdout",
     "output_type": "stream",
     "text": [
      "Name: kiara\n",
      "Version: 0.4.20\n",
      "Summary: Data-centric workflow orchestration.\n",
      "Home-page: https://github.com/DHARPA-Project/kiara\n",
      "Author: Markus Binsteiner\n",
      "Author-email: markus@frkl.io\n",
      "License: MPL-2.0\n",
      "Location: /opt/miniconda3/envs/lineage_data/lib/python3.9/site-packages\n",
      "Requires: airium, alembic, appdirs, bidict, black, click, dag-cbor, deepdiff, Deprecated, distro, dpath, filetype, humanfriendly, jinja2, jupytext, mistune, mkdocstrings, mmh3, multiformats, networkx, orjson, pp-ez, pydantic, python-dateutil, python-slugify, pyzmq, regex, rich, rich-click, ruamel.yaml, sortedcontainers, sqlalchemy, sqlalchemy-utc, sqlalchemy-utils, stevedore, structlog, textual, tzlocal\n",
      "Required-by: kiara-plugin.core-types, kiara-plugin.playground, kiara-plugin.tabular\n"
     ]
    }
   ],
   "source": [
    "# version of Kiara used in this notebook\n",
    "!pip show kiara"
   ]
  },
  {
   "cell_type": "markdown",
   "metadata": {},
   "source": [
    "#### 1. Overview of the operations we will be experimenting on to create lineage data"
   ]
  },
  {
   "cell_type": "markdown",
   "metadata": {},
   "source": [
    "- corpus onboarding\n",
    "example corpus onboarding pipeline from https://github.com/DHARPA-Project/kiara.examples/blob/main/examples/pipelines/topic_modeling/corpus_onboarding.yaml "
   ]
  },
  {
   "cell_type": "code",
   "execution_count": 4,
   "metadata": {},
   "outputs": [
    {
     "data": {
      "text/html": [
       "<pre style=\"white-space:pre;overflow-x:auto;line-height:normal;font-family:Menlo,'DejaVu Sans Mono',consolas,'Courier New',monospace\">                                                                                                                                            \n",
       " <span style=\"font-style: italic\">Documentation    </span>                                                                                                                          \n",
       " <span style=\"font-style: italic\">                 </span>   Load a table from a bundle of text files.                                                                              \n",
       " <span style=\"font-style: italic\">                 </span>                                                                                                                          \n",
       " <span style=\"font-style: italic\">Author(s)        </span>                                                                                                                          \n",
       " <span style=\"font-style: italic\">                 </span>   Markus Binsteiner  <span style=\"font-style: italic\"> markus@frkl.io </span>                                                                                    \n",
       " <span style=\"font-style: italic\">                 </span>                                                                                                                          \n",
       " <span style=\"font-style: italic\">Context          </span>                                                                                                                          \n",
       " <span style=\"font-style: italic\">                 </span>  <span style=\"font-style: italic\"> Labels     </span>  <span style=\"font-style: italic\">package</span>: kiara                                                                                            \n",
       " <span style=\"font-style: italic\">                 </span>  <span style=\"font-style: italic\"> References </span>  <span style=\"font-style: italic\">source_repo</span>: <a href=\"https://github.com/DHARPA-Project/kiara\" target=\"_blank\">https://github.com/DHARPA-Project/kiara</a>                                                      \n",
       " <span style=\"font-style: italic\">                 </span>  <span style=\"font-style: italic\">            </span>  <span style=\"font-style: italic\">documentation</span>: <a href=\"https://dharpa.org/kiara_documentation/\" target=\"_blank\">https://dharpa.org/kiara_documentation/</a>                                                    \n",
       " <span style=\"font-style: italic\">                 </span>                                                                                                                          \n",
       " <span style=\"font-style: italic\">Operation details</span>                                                                                                                          \n",
       " <span style=\"font-style: italic\">                 </span>  <span style=\"font-style: italic\"> Documentation </span>  Load a table from a bundle of text files.                                                              \n",
       " <span style=\"font-style: italic\">                 </span>                                                                                                                          \n",
       " <span style=\"font-style: italic\">                 </span>  <span style=\"font-style: italic\"> Inputs        </span>                                                                                                         \n",
       " <span style=\"font-style: italic\">                 </span>  <span style=\"font-style: italic\">               </span>   <span style=\"font-weight: bold\"> field name </span> <span style=\"font-weight: bold\"> type   </span> <span style=\"font-weight: bold\"> description                                  </span> <span style=\"font-weight: bold\"> Required </span> <span style=\"font-weight: bold\"> Default          </span>    \n",
       " <span style=\"font-style: italic\">                 </span>  <span style=\"font-style: italic\">               </span>   ──────────────────────────────────────────────────────────────────────────────────────────────────    \n",
       " <span style=\"font-style: italic\">                 </span>  <span style=\"font-style: italic\">               </span>   <span style=\"font-style: italic\"> path       </span>  string   The local path of the folder to import.        <span style=\"font-weight: bold\">yes</span>        -- no default --     \n",
       " <span style=\"font-style: italic\">                 </span>  <span style=\"font-style: italic\">               </span>                                                                                                         \n",
       " <span style=\"font-style: italic\">                 </span>                                                                                                                          \n",
       " <span style=\"font-style: italic\">                 </span>  <span style=\"font-style: italic\"> Outputs       </span>                                                                                                         \n",
       " <span style=\"font-style: italic\">                 </span>  <span style=\"font-style: italic\">               </span>   <span style=\"font-weight: bold\"> field name           </span> <span style=\"font-weight: bold\"> type        </span> <span style=\"font-weight: bold\"> description                                                 </span>    \n",
       " <span style=\"font-style: italic\">                 </span>  <span style=\"font-style: italic\">               </span>   ──────────────────────────────────────────────────────────────────────────────────────────────────    \n",
       " <span style=\"font-style: italic\">                 </span>  <span style=\"font-style: italic\">               </span>   <span style=\"font-style: italic\"> imported_file_bundle </span>  file_bundle   The imported file bundle.                                       \n",
       " <span style=\"font-style: italic\">                 </span>  <span style=\"font-style: italic\">               </span>   <span style=\"font-style: italic\"> table                </span>  table         The result value.                                               \n",
       " <span style=\"font-style: italic\">                 </span>  <span style=\"font-style: italic\">               </span>                                                                                                         \n",
       " <span style=\"font-style: italic\">                 </span>                                                                                                                          \n",
       "                                                                                                                                            \n",
       "</pre>\n"
      ],
      "text/plain": [
       "                                                                                                                                            \n",
       " \u001b[3mDocumentation    \u001b[0m                                                                                                                          \n",
       " \u001b[3m                 \u001b[0m   Load a table from a bundle of text files.                                                                              \n",
       " \u001b[3m                 \u001b[0m                                                                                                                          \n",
       " \u001b[3mAuthor(s)        \u001b[0m                                                                                                                          \n",
       " \u001b[3m                 \u001b[0m   Markus Binsteiner  \u001b[3m \u001b[0m\u001b[3mmarkus@frkl.io\u001b[0m\u001b[3m \u001b[0m                                                                                    \n",
       " \u001b[3m                 \u001b[0m                                                                                                                          \n",
       " \u001b[3mContext          \u001b[0m                                                                                                                          \n",
       " \u001b[3m                 \u001b[0m  \u001b[3m \u001b[0m\u001b[3mLabels    \u001b[0m\u001b[3m \u001b[0m  \u001b[3mpackage\u001b[0m: kiara                                                                                            \n",
       " \u001b[3m                 \u001b[0m  \u001b[3m \u001b[0m\u001b[3mReferences\u001b[0m\u001b[3m \u001b[0m  \u001b[3msource_repo\u001b[0m: \u001b]8;id=391547;https://github.com/DHARPA-Project/kiara\u001b\\https://github.com/DHARPA-Project/kiara\u001b]8;;\u001b\\                                                      \n",
       " \u001b[3m                 \u001b[0m  \u001b[3m            \u001b[0m  \u001b[3mdocumentation\u001b[0m: \u001b]8;id=414980;https://dharpa.org/kiara_documentation/\u001b\\https://dharpa.org/kiara_documentation/\u001b]8;;\u001b\\                                                    \n",
       " \u001b[3m                 \u001b[0m                                                                                                                          \n",
       " \u001b[3mOperation details\u001b[0m                                                                                                                          \n",
       " \u001b[3m                 \u001b[0m  \u001b[3m \u001b[0m\u001b[3mDocumentation\u001b[0m\u001b[3m \u001b[0m  Load a table from a bundle of text files.                                                              \n",
       " \u001b[3m                 \u001b[0m                                                                                                                          \n",
       " \u001b[3m                 \u001b[0m  \u001b[3m \u001b[0m\u001b[3mInputs       \u001b[0m\u001b[3m \u001b[0m                                                                                                         \n",
       " \u001b[3m                 \u001b[0m  \u001b[3m               \u001b[0m   \u001b[1m \u001b[0m\u001b[1mfield name\u001b[0m\u001b[1m \u001b[0m \u001b[1m \u001b[0m\u001b[1mtype  \u001b[0m\u001b[1m \u001b[0m \u001b[1m \u001b[0m\u001b[1mdescription                                 \u001b[0m\u001b[1m \u001b[0m \u001b[1m \u001b[0m\u001b[1mRequired\u001b[0m\u001b[1m \u001b[0m \u001b[1m \u001b[0m\u001b[1mDefault         \u001b[0m\u001b[1m \u001b[0m    \n",
       " \u001b[3m                 \u001b[0m  \u001b[3m               \u001b[0m   ──────────────────────────────────────────────────────────────────────────────────────────────────    \n",
       " \u001b[3m                 \u001b[0m  \u001b[3m               \u001b[0m   \u001b[3m \u001b[0m\u001b[3mpath      \u001b[0m\u001b[3m \u001b[0m  string   The local path of the folder to import.        \u001b[1myes\u001b[0m        -- no default --     \n",
       " \u001b[3m                 \u001b[0m  \u001b[3m               \u001b[0m                                                                                                         \n",
       " \u001b[3m                 \u001b[0m                                                                                                                          \n",
       " \u001b[3m                 \u001b[0m  \u001b[3m \u001b[0m\u001b[3mOutputs      \u001b[0m\u001b[3m \u001b[0m                                                                                                         \n",
       " \u001b[3m                 \u001b[0m  \u001b[3m               \u001b[0m   \u001b[1m \u001b[0m\u001b[1mfield name          \u001b[0m\u001b[1m \u001b[0m \u001b[1m \u001b[0m\u001b[1mtype       \u001b[0m\u001b[1m \u001b[0m \u001b[1m \u001b[0m\u001b[1mdescription                                                \u001b[0m\u001b[1m \u001b[0m    \n",
       " \u001b[3m                 \u001b[0m  \u001b[3m               \u001b[0m   ──────────────────────────────────────────────────────────────────────────────────────────────────    \n",
       " \u001b[3m                 \u001b[0m  \u001b[3m               \u001b[0m   \u001b[3m \u001b[0m\u001b[3mimported_file_bundle\u001b[0m\u001b[3m \u001b[0m  file_bundle   The imported file bundle.                                       \n",
       " \u001b[3m                 \u001b[0m  \u001b[3m               \u001b[0m   \u001b[3m \u001b[0m\u001b[3mtable               \u001b[0m\u001b[3m \u001b[0m  table         The result value.                                               \n",
       " \u001b[3m                 \u001b[0m  \u001b[3m               \u001b[0m                                                                                                         \n",
       " \u001b[3m                 \u001b[0m                                                                                                                          \n",
       "                                                                                                                                            \n"
      ]
     },
     "execution_count": 4,
     "metadata": {},
     "output_type": "execute_result"
    }
   ],
   "source": [
    "api.get_operation_info('import.table.from.text_file_bundle')"
   ]
  },
  {
   "cell_type": "markdown",
   "metadata": {},
   "source": [
    "- text processing\n",
    "example topic modeling pipeline from https://github.com/DHARPA-Project/kiara.examples/blob/main/examples/pipelines/topic_modeling/topic_modeling.yaml "
   ]
  },
  {
   "cell_type": "code",
   "execution_count": 5,
   "metadata": {},
   "outputs": [
    {
     "data": {
      "text/html": [
       "<pre style=\"white-space:pre;overflow-x:auto;line-height:normal;font-family:Menlo,'DejaVu Sans Mono',consolas,'Courier New',monospace\">                                                                                                                                            \n",
       " <span style=\"font-style: italic\">Documentation    </span>                                                                                                                          \n",
       " <span style=\"font-style: italic\">                 </span>   Example topic-modeling end-to-end workflow.                                                                            \n",
       " <span style=\"font-style: italic\">                 </span>                                                                                                                          \n",
       " <span style=\"font-style: italic\">Author(s)        </span>                                                                                                                          \n",
       " <span style=\"font-style: italic\">                 </span>   Markus Binsteiner  <span style=\"font-style: italic\"> markus@frkl.io </span>                                                                                    \n",
       " <span style=\"font-style: italic\">                 </span>                                                                                                                          \n",
       " <span style=\"font-style: italic\">Context          </span>                                                                                                                          \n",
       " <span style=\"font-style: italic\">                 </span>  <span style=\"font-style: italic\"> Labels     </span>  <span style=\"font-style: italic\">package</span>: kiara                                                                                            \n",
       " <span style=\"font-style: italic\">                 </span>  <span style=\"font-style: italic\"> References </span>  <span style=\"font-style: italic\">source_repo</span>: <a href=\"https://github.com/DHARPA-Project/kiara\" target=\"_blank\">https://github.com/DHARPA-Project/kiara</a>                                                      \n",
       " <span style=\"font-style: italic\">                 </span>  <span style=\"font-style: italic\">            </span>  <span style=\"font-style: italic\">documentation</span>: <a href=\"https://dharpa.org/kiara_documentation/\" target=\"_blank\">https://dharpa.org/kiara_documentation/</a>                                                    \n",
       " <span style=\"font-style: italic\">                 </span>                                                                                                                          \n",
       " <span style=\"font-style: italic\">Operation details</span>                                                                                                                          \n",
       " <span style=\"font-style: italic\">                 </span>  <span style=\"font-style: italic\"> Documentation </span>  Example topic-modeling end-to-end workflow.                                                            \n",
       " <span style=\"font-style: italic\">                 </span>                                                                                                                          \n",
       " <span style=\"font-style: italic\">                 </span>  <span style=\"font-style: italic\"> Inputs        </span>                                                                                                         \n",
       " <span style=\"font-style: italic\">                 </span>  <span style=\"font-style: italic\">               </span>   <span style=\"font-weight: bold\"> field name              </span> <span style=\"font-weight: bold\"> type    </span> <span style=\"font-weight: bold\"> description             </span> <span style=\"font-weight: bold\"> Required </span> <span style=\"font-weight: bold\"> Default                 </span>    \n",
       " <span style=\"font-style: italic\">                 </span>  <span style=\"font-style: italic\">               </span>   ──────────────────────────────────────────────────────────────────────────────────────────────────    \n",
       " <span style=\"font-style: italic\">                 </span>  <span style=\"font-style: italic\">               </span>   <span style=\"font-style: italic\"> text_corpus_folder_path </span>  string    The local path of the     no         /../../data/text_corpu…     \n",
       " <span style=\"font-style: italic\">                 </span>  <span style=\"font-style: italic\">               </span>   <span style=\"font-style: italic\">                         </span>            folder to import.                                                \n",
       " <span style=\"font-style: italic\">                 </span>  <span style=\"font-style: italic\">               </span>   <span style=\"font-style: italic\"> content_column_name     </span>  string    The name of the column    no         content                     \n",
       " <span style=\"font-style: italic\">                 </span>  <span style=\"font-style: italic\">               </span>   <span style=\"font-style: italic\">                         </span>            to extract.                                                      \n",
       " <span style=\"font-style: italic\">                 </span>  <span style=\"font-style: italic\">               </span>   <span style=\"font-style: italic\"> filename_column_name    </span>  string    The name of the column    no         file_name                   \n",
       " <span style=\"font-style: italic\">                 </span>  <span style=\"font-style: italic\">               </span>   <span style=\"font-style: italic\">                         </span>            to extract.                                                      \n",
       " <span style=\"font-style: italic\">                 </span>  <span style=\"font-style: italic\">               </span>   <span style=\"font-style: italic\"> date_force_non_null     </span>  boolean   If set to 'True', raise   no         True                        \n",
       " <span style=\"font-style: italic\">                 </span>  <span style=\"font-style: italic\">               </span>   <span style=\"font-style: italic\">                         </span>            an error if any of the                                           \n",
       " <span style=\"font-style: italic\">                 </span>  <span style=\"font-style: italic\">               </span>   <span style=\"font-style: italic\">                         </span>            strings in the array                                             \n",
       " <span style=\"font-style: italic\">                 </span>  <span style=\"font-style: italic\">               </span>   <span style=\"font-style: italic\">                         </span>            can't be parsed.                                                 \n",
       " <span style=\"font-style: italic\">                 </span>  <span style=\"font-style: italic\">               </span>   <span style=\"font-style: italic\"> date_parse_min          </span>  integer   The minimum index from    no         11                          \n",
       " <span style=\"font-style: italic\">                 </span>  <span style=\"font-style: italic\">               </span>   <span style=\"font-style: italic\">                         </span>            where to start parsing                                           \n",
       " <span style=\"font-style: italic\">                 </span>  <span style=\"font-style: italic\">               </span>   <span style=\"font-style: italic\">                         </span>            the string(s).                                                   \n",
       " <span style=\"font-style: italic\">                 </span>  <span style=\"font-style: italic\">               </span>   <span style=\"font-style: italic\"> date_parse_max          </span>  integer   The maximum index until   no         21                          \n",
       " <span style=\"font-style: italic\">                 </span>  <span style=\"font-style: italic\">               </span>   <span style=\"font-style: italic\">                         </span>            whic to parse the                                                \n",
       " <span style=\"font-style: italic\">                 </span>  <span style=\"font-style: italic\">               </span>   <span style=\"font-style: italic\">                         </span>            string(s).                                                       \n",
       " <span style=\"font-style: italic\">                 </span>  <span style=\"font-style: italic\">               </span>   <span style=\"font-style: italic\"> date_remove_tokensl     </span>  list      A list of                 no         []                          \n",
       " <span style=\"font-style: italic\">                 </span>  <span style=\"font-style: italic\">               </span>   <span style=\"font-style: italic\">                         </span>            tokens/characters to                                             \n",
       " <span style=\"font-style: italic\">                 </span>  <span style=\"font-style: italic\">               </span>   <span style=\"font-style: italic\">                         </span>            replace with a single                                            \n",
       " <span style=\"font-style: italic\">                 </span>  <span style=\"font-style: italic\">               </span>   <span style=\"font-style: italic\">                         </span>            white-space before                                               \n",
       " <span style=\"font-style: italic\">                 </span>  <span style=\"font-style: italic\">               </span>   <span style=\"font-style: italic\">                         </span>            parsing the input.                                               \n",
       " <span style=\"font-style: italic\">                 </span>  <span style=\"font-style: italic\">               </span>   <span style=\"font-style: italic\"> tokenize_by_word        </span>  boolean   Whether to tokenize by    no         True                        \n",
       " <span style=\"font-style: italic\">                 </span>  <span style=\"font-style: italic\">               </span>   <span style=\"font-style: italic\">                         </span>            word (default), or                                               \n",
       " <span style=\"font-style: italic\">                 </span>  <span style=\"font-style: italic\">               </span>   <span style=\"font-style: italic\">                         </span>            character.                                                       \n",
       " <span style=\"font-style: italic\">                 </span>  <span style=\"font-style: italic\">               </span>   <span style=\"font-style: italic\"> languages               </span>  list      A list of languages,      no         ['italian']                 \n",
       " <span style=\"font-style: italic\">                 </span>  <span style=\"font-style: italic\">               </span>   <span style=\"font-style: italic\">                         </span>            will be used to                                                  \n",
       " <span style=\"font-style: italic\">                 </span>  <span style=\"font-style: italic\">               </span>   <span style=\"font-style: italic\">                         </span>            retrieve                                                         \n",
       " <span style=\"font-style: italic\">                 </span>  <span style=\"font-style: italic\">               </span>   <span style=\"font-style: italic\">                         </span>            language-specific                                                \n",
       " <span style=\"font-style: italic\">                 </span>  <span style=\"font-style: italic\">               </span>   <span style=\"font-style: italic\">                         </span>            stopword from nltk.                                              \n",
       " <span style=\"font-style: italic\">                 </span>  <span style=\"font-style: italic\">               </span>   <span style=\"font-style: italic\"> stopword_lists          </span>  list      A list of lists of        no         []                          \n",
       " <span style=\"font-style: italic\">                 </span>  <span style=\"font-style: italic\">               </span>   <span style=\"font-style: italic\">                         </span>            stopwords.                                                       \n",
       " <span style=\"font-style: italic\">                 </span>  <span style=\"font-style: italic\">               </span>   <span style=\"font-style: italic\"> to_lowercase            </span>  boolean   Apply lowercasing to      no         False                       \n",
       " <span style=\"font-style: italic\">                 </span>  <span style=\"font-style: italic\">               </span>   <span style=\"font-style: italic\">                         </span>            the text.                                                        \n",
       " <span style=\"font-style: italic\">                 </span>  <span style=\"font-style: italic\">               </span>   <span style=\"font-style: italic\"> remove_alphanumeric     </span>  boolean   Remove all tokens that    no         False                       \n",
       " <span style=\"font-style: italic\">                 </span>  <span style=\"font-style: italic\">               </span>   <span style=\"font-style: italic\">                         </span>            include numbers (e.g.                                            \n",
       " <span style=\"font-style: italic\">                 </span>  <span style=\"font-style: italic\">               </span>   <span style=\"font-style: italic\">                         </span>            ex1ample).                                                       \n",
       " <span style=\"font-style: italic\">                 </span>  <span style=\"font-style: italic\">               </span>   <span style=\"font-style: italic\"> remove_non_alpha        </span>  boolean   Remove all tokens that    no         False                       \n",
       " <span style=\"font-style: italic\">                 </span>  <span style=\"font-style: italic\">               </span>   <span style=\"font-style: italic\">                         </span>            include punctuation and                                          \n",
       " <span style=\"font-style: italic\">                 </span>  <span style=\"font-style: italic\">               </span>   <span style=\"font-style: italic\">                         </span>            numbers (e.g.                                                    \n",
       " <span style=\"font-style: italic\">                 </span>  <span style=\"font-style: italic\">               </span>   <span style=\"font-style: italic\">                         </span>            ex1a.mple).                                                      \n",
       " <span style=\"font-style: italic\">                 </span>  <span style=\"font-style: italic\">               </span>   <span style=\"font-style: italic\"> remove_all_numeric      </span>  boolean   Remove all tokens that    no         False                       \n",
       " <span style=\"font-style: italic\">                 </span>  <span style=\"font-style: italic\">               </span>   <span style=\"font-style: italic\">                         </span>            contain numbers only                                             \n",
       " <span style=\"font-style: italic\">                 </span>  <span style=\"font-style: italic\">               </span>   <span style=\"font-style: italic\">                         </span>            (e.g. 876).                                                      \n",
       " <span style=\"font-style: italic\">                 </span>  <span style=\"font-style: italic\">               </span>   <span style=\"font-style: italic\"> remove_short_tokens     </span>  integer   Remove tokens shorter     no         False                       \n",
       " <span style=\"font-style: italic\">                 </span>  <span style=\"font-style: italic\">               </span>   <span style=\"font-style: italic\">                         </span>            than a certain length.                                           \n",
       " <span style=\"font-style: italic\">                 </span>  <span style=\"font-style: italic\">               </span>   <span style=\"font-style: italic\">                         </span>            If value is &lt;= 0, no                                             \n",
       " <span style=\"font-style: italic\">                 </span>  <span style=\"font-style: italic\">               </span>   <span style=\"font-style: italic\">                         </span>            filtering will be done.                                          \n",
       " <span style=\"font-style: italic\">                 </span>  <span style=\"font-style: italic\">               </span>   <span style=\"font-style: italic\"> num_topics_min          </span>  integer   The minimal number of     no         7                           \n",
       " <span style=\"font-style: italic\">                 </span>  <span style=\"font-style: italic\">               </span>   <span style=\"font-style: italic\">                         </span>            topics.                                                          \n",
       " <span style=\"font-style: italic\">                 </span>  <span style=\"font-style: italic\">               </span>   <span style=\"font-style: italic\"> num_topics_max          </span>  integer   The max number of         no         7                           \n",
       " <span style=\"font-style: italic\">                 </span>  <span style=\"font-style: italic\">               </span>   <span style=\"font-style: italic\">                         </span>            topics.                                                          \n",
       " <span style=\"font-style: italic\">                 </span>  <span style=\"font-style: italic\">               </span>   <span style=\"font-style: italic\"> compute_coherence       </span>  boolean   Whether to compute the    no         False                       \n",
       " <span style=\"font-style: italic\">                 </span>  <span style=\"font-style: italic\">               </span>   <span style=\"font-style: italic\">                         </span>            coherence score for                                              \n",
       " <span style=\"font-style: italic\">                 </span>  <span style=\"font-style: italic\">               </span>   <span style=\"font-style: italic\">                         </span>            each model.                                                      \n",
       " <span style=\"font-style: italic\">                 </span>  <span style=\"font-style: italic\">               </span>   <span style=\"font-style: italic\"> words_per_topic         </span>  integer   How many words per        no         10                          \n",
       " <span style=\"font-style: italic\">                 </span>  <span style=\"font-style: italic\">               </span>   <span style=\"font-style: italic\">                         </span>            topic to put in the                                              \n",
       " <span style=\"font-style: italic\">                 </span>  <span style=\"font-style: italic\">               </span>   <span style=\"font-style: italic\">                         </span>            result model.                                                    \n",
       " <span style=\"font-style: italic\">                 </span>  <span style=\"font-style: italic\">               </span>                                                                                                         \n",
       " <span style=\"font-style: italic\">                 </span>                                                                                                                          \n",
       " <span style=\"font-style: italic\">                 </span>  <span style=\"font-style: italic\"> Outputs       </span>                                                                                                         \n",
       " <span style=\"font-style: italic\">                 </span>  <span style=\"font-style: italic\">               </span>   <span style=\"font-weight: bold\"> field name              </span> <span style=\"font-weight: bold\"> type        </span> <span style=\"font-weight: bold\"> description                                              </span>    \n",
       " <span style=\"font-style: italic\">                 </span>  <span style=\"font-style: italic\">               </span>   ──────────────────────────────────────────────────────────────────────────────────────────────────    \n",
       " <span style=\"font-style: italic\">                 </span>  <span style=\"font-style: italic\">               </span>   <span style=\"font-style: italic\"> text_corpus_file_bundle </span>  file_bundle   The imported file bundle.                                    \n",
       " <span style=\"font-style: italic\">                 </span>  <span style=\"font-style: italic\">               </span>   <span style=\"font-style: italic\"> text_corpus_table       </span>  table         The result value.                                            \n",
       " <span style=\"font-style: italic\">                 </span>  <span style=\"font-style: italic\">               </span>   <span style=\"font-style: italic\"> content_array           </span>  array         The column.                                                  \n",
       " <span style=\"font-style: italic\">                 </span>  <span style=\"font-style: italic\">               </span>   <span style=\"font-style: italic\"> date_array              </span>  array         The resulting array with items of a date data type.          \n",
       " <span style=\"font-style: italic\">                 </span>  <span style=\"font-style: italic\">               </span>   <span style=\"font-style: italic\"> tokenized_corpus        </span>  array         The tokenized content, as an array of lists of strings.      \n",
       " <span style=\"font-style: italic\">                 </span>  <span style=\"font-style: italic\">               </span>   <span style=\"font-style: italic\"> preprocessed_corpus     </span>  array         The pre-processed content, as an array of lists of           \n",
       " <span style=\"font-style: italic\">                 </span>  <span style=\"font-style: italic\">               </span>   <span style=\"font-style: italic\">                         </span>                strings.                                                     \n",
       " <span style=\"font-style: italic\">                 </span>  <span style=\"font-style: italic\">               </span>   <span style=\"font-style: italic\"> topic_models            </span>  dict          A dictionary with one coherence model table for each         \n",
       " <span style=\"font-style: italic\">                 </span>  <span style=\"font-style: italic\">               </span>   <span style=\"font-style: italic\">                         </span>                number of topics.                                            \n",
       " <span style=\"font-style: italic\">                 </span>  <span style=\"font-style: italic\">               </span>   <span style=\"font-style: italic\"> coherence_table         </span>  table         Coherence details.                                           \n",
       " <span style=\"font-style: italic\">                 </span>  <span style=\"font-style: italic\">               </span>   <span style=\"font-style: italic\"> coherence_map           </span>  dict          A map with the coherence value for every number of           \n",
       " <span style=\"font-style: italic\">                 </span>  <span style=\"font-style: italic\">               </span>   <span style=\"font-style: italic\">                         </span>                topics.                                                      \n",
       " <span style=\"font-style: italic\">                 </span>  <span style=\"font-style: italic\">               </span>                                                                                                         \n",
       " <span style=\"font-style: italic\">                 </span>                                                                                                                          \n",
       "                                                                                                                                            \n",
       "</pre>\n"
      ],
      "text/plain": [
       "                                                                                                                                            \n",
       " \u001b[3mDocumentation    \u001b[0m                                                                                                                          \n",
       " \u001b[3m                 \u001b[0m   Example topic-modeling end-to-end workflow.                                                                            \n",
       " \u001b[3m                 \u001b[0m                                                                                                                          \n",
       " \u001b[3mAuthor(s)        \u001b[0m                                                                                                                          \n",
       " \u001b[3m                 \u001b[0m   Markus Binsteiner  \u001b[3m \u001b[0m\u001b[3mmarkus@frkl.io\u001b[0m\u001b[3m \u001b[0m                                                                                    \n",
       " \u001b[3m                 \u001b[0m                                                                                                                          \n",
       " \u001b[3mContext          \u001b[0m                                                                                                                          \n",
       " \u001b[3m                 \u001b[0m  \u001b[3m \u001b[0m\u001b[3mLabels    \u001b[0m\u001b[3m \u001b[0m  \u001b[3mpackage\u001b[0m: kiara                                                                                            \n",
       " \u001b[3m                 \u001b[0m  \u001b[3m \u001b[0m\u001b[3mReferences\u001b[0m\u001b[3m \u001b[0m  \u001b[3msource_repo\u001b[0m: \u001b]8;id=42799;https://github.com/DHARPA-Project/kiara\u001b\\https://github.com/DHARPA-Project/kiara\u001b]8;;\u001b\\                                                      \n",
       " \u001b[3m                 \u001b[0m  \u001b[3m            \u001b[0m  \u001b[3mdocumentation\u001b[0m: \u001b]8;id=160494;https://dharpa.org/kiara_documentation/\u001b\\https://dharpa.org/kiara_documentation/\u001b]8;;\u001b\\                                                    \n",
       " \u001b[3m                 \u001b[0m                                                                                                                          \n",
       " \u001b[3mOperation details\u001b[0m                                                                                                                          \n",
       " \u001b[3m                 \u001b[0m  \u001b[3m \u001b[0m\u001b[3mDocumentation\u001b[0m\u001b[3m \u001b[0m  Example topic-modeling end-to-end workflow.                                                            \n",
       " \u001b[3m                 \u001b[0m                                                                                                                          \n",
       " \u001b[3m                 \u001b[0m  \u001b[3m \u001b[0m\u001b[3mInputs       \u001b[0m\u001b[3m \u001b[0m                                                                                                         \n",
       " \u001b[3m                 \u001b[0m  \u001b[3m               \u001b[0m   \u001b[1m \u001b[0m\u001b[1mfield name             \u001b[0m\u001b[1m \u001b[0m \u001b[1m \u001b[0m\u001b[1mtype   \u001b[0m\u001b[1m \u001b[0m \u001b[1m \u001b[0m\u001b[1mdescription            \u001b[0m\u001b[1m \u001b[0m \u001b[1m \u001b[0m\u001b[1mRequired\u001b[0m\u001b[1m \u001b[0m \u001b[1m \u001b[0m\u001b[1mDefault                \u001b[0m\u001b[1m \u001b[0m    \n",
       " \u001b[3m                 \u001b[0m  \u001b[3m               \u001b[0m   ──────────────────────────────────────────────────────────────────────────────────────────────────    \n",
       " \u001b[3m                 \u001b[0m  \u001b[3m               \u001b[0m   \u001b[3m \u001b[0m\u001b[3mtext_corpus_folder_path\u001b[0m\u001b[3m \u001b[0m  string    The local path of the     no         /../../data/text_corpu…     \n",
       " \u001b[3m                 \u001b[0m  \u001b[3m               \u001b[0m   \u001b[3m                         \u001b[0m            folder to import.                                                \n",
       " \u001b[3m                 \u001b[0m  \u001b[3m               \u001b[0m   \u001b[3m \u001b[0m\u001b[3mcontent_column_name    \u001b[0m\u001b[3m \u001b[0m  string    The name of the column    no         content                     \n",
       " \u001b[3m                 \u001b[0m  \u001b[3m               \u001b[0m   \u001b[3m                         \u001b[0m            to extract.                                                      \n",
       " \u001b[3m                 \u001b[0m  \u001b[3m               \u001b[0m   \u001b[3m \u001b[0m\u001b[3mfilename_column_name   \u001b[0m\u001b[3m \u001b[0m  string    The name of the column    no         file_name                   \n",
       " \u001b[3m                 \u001b[0m  \u001b[3m               \u001b[0m   \u001b[3m                         \u001b[0m            to extract.                                                      \n",
       " \u001b[3m                 \u001b[0m  \u001b[3m               \u001b[0m   \u001b[3m \u001b[0m\u001b[3mdate_force_non_null    \u001b[0m\u001b[3m \u001b[0m  boolean   If set to 'True', raise   no         True                        \n",
       " \u001b[3m                 \u001b[0m  \u001b[3m               \u001b[0m   \u001b[3m                         \u001b[0m            an error if any of the                                           \n",
       " \u001b[3m                 \u001b[0m  \u001b[3m               \u001b[0m   \u001b[3m                         \u001b[0m            strings in the array                                             \n",
       " \u001b[3m                 \u001b[0m  \u001b[3m               \u001b[0m   \u001b[3m                         \u001b[0m            can't be parsed.                                                 \n",
       " \u001b[3m                 \u001b[0m  \u001b[3m               \u001b[0m   \u001b[3m \u001b[0m\u001b[3mdate_parse_min         \u001b[0m\u001b[3m \u001b[0m  integer   The minimum index from    no         11                          \n",
       " \u001b[3m                 \u001b[0m  \u001b[3m               \u001b[0m   \u001b[3m                         \u001b[0m            where to start parsing                                           \n",
       " \u001b[3m                 \u001b[0m  \u001b[3m               \u001b[0m   \u001b[3m                         \u001b[0m            the string(s).                                                   \n",
       " \u001b[3m                 \u001b[0m  \u001b[3m               \u001b[0m   \u001b[3m \u001b[0m\u001b[3mdate_parse_max         \u001b[0m\u001b[3m \u001b[0m  integer   The maximum index until   no         21                          \n",
       " \u001b[3m                 \u001b[0m  \u001b[3m               \u001b[0m   \u001b[3m                         \u001b[0m            whic to parse the                                                \n",
       " \u001b[3m                 \u001b[0m  \u001b[3m               \u001b[0m   \u001b[3m                         \u001b[0m            string(s).                                                       \n",
       " \u001b[3m                 \u001b[0m  \u001b[3m               \u001b[0m   \u001b[3m \u001b[0m\u001b[3mdate_remove_tokensl    \u001b[0m\u001b[3m \u001b[0m  list      A list of                 no         []                          \n",
       " \u001b[3m                 \u001b[0m  \u001b[3m               \u001b[0m   \u001b[3m                         \u001b[0m            tokens/characters to                                             \n",
       " \u001b[3m                 \u001b[0m  \u001b[3m               \u001b[0m   \u001b[3m                         \u001b[0m            replace with a single                                            \n",
       " \u001b[3m                 \u001b[0m  \u001b[3m               \u001b[0m   \u001b[3m                         \u001b[0m            white-space before                                               \n",
       " \u001b[3m                 \u001b[0m  \u001b[3m               \u001b[0m   \u001b[3m                         \u001b[0m            parsing the input.                                               \n",
       " \u001b[3m                 \u001b[0m  \u001b[3m               \u001b[0m   \u001b[3m \u001b[0m\u001b[3mtokenize_by_word       \u001b[0m\u001b[3m \u001b[0m  boolean   Whether to tokenize by    no         True                        \n",
       " \u001b[3m                 \u001b[0m  \u001b[3m               \u001b[0m   \u001b[3m                         \u001b[0m            word (default), or                                               \n",
       " \u001b[3m                 \u001b[0m  \u001b[3m               \u001b[0m   \u001b[3m                         \u001b[0m            character.                                                       \n",
       " \u001b[3m                 \u001b[0m  \u001b[3m               \u001b[0m   \u001b[3m \u001b[0m\u001b[3mlanguages              \u001b[0m\u001b[3m \u001b[0m  list      A list of languages,      no         ['italian']                 \n",
       " \u001b[3m                 \u001b[0m  \u001b[3m               \u001b[0m   \u001b[3m                         \u001b[0m            will be used to                                                  \n",
       " \u001b[3m                 \u001b[0m  \u001b[3m               \u001b[0m   \u001b[3m                         \u001b[0m            retrieve                                                         \n",
       " \u001b[3m                 \u001b[0m  \u001b[3m               \u001b[0m   \u001b[3m                         \u001b[0m            language-specific                                                \n",
       " \u001b[3m                 \u001b[0m  \u001b[3m               \u001b[0m   \u001b[3m                         \u001b[0m            stopword from nltk.                                              \n",
       " \u001b[3m                 \u001b[0m  \u001b[3m               \u001b[0m   \u001b[3m \u001b[0m\u001b[3mstopword_lists         \u001b[0m\u001b[3m \u001b[0m  list      A list of lists of        no         []                          \n",
       " \u001b[3m                 \u001b[0m  \u001b[3m               \u001b[0m   \u001b[3m                         \u001b[0m            stopwords.                                                       \n",
       " \u001b[3m                 \u001b[0m  \u001b[3m               \u001b[0m   \u001b[3m \u001b[0m\u001b[3mto_lowercase           \u001b[0m\u001b[3m \u001b[0m  boolean   Apply lowercasing to      no         False                       \n",
       " \u001b[3m                 \u001b[0m  \u001b[3m               \u001b[0m   \u001b[3m                         \u001b[0m            the text.                                                        \n",
       " \u001b[3m                 \u001b[0m  \u001b[3m               \u001b[0m   \u001b[3m \u001b[0m\u001b[3mremove_alphanumeric    \u001b[0m\u001b[3m \u001b[0m  boolean   Remove all tokens that    no         False                       \n",
       " \u001b[3m                 \u001b[0m  \u001b[3m               \u001b[0m   \u001b[3m                         \u001b[0m            include numbers (e.g.                                            \n",
       " \u001b[3m                 \u001b[0m  \u001b[3m               \u001b[0m   \u001b[3m                         \u001b[0m            ex1ample).                                                       \n",
       " \u001b[3m                 \u001b[0m  \u001b[3m               \u001b[0m   \u001b[3m \u001b[0m\u001b[3mremove_non_alpha       \u001b[0m\u001b[3m \u001b[0m  boolean   Remove all tokens that    no         False                       \n",
       " \u001b[3m                 \u001b[0m  \u001b[3m               \u001b[0m   \u001b[3m                         \u001b[0m            include punctuation and                                          \n",
       " \u001b[3m                 \u001b[0m  \u001b[3m               \u001b[0m   \u001b[3m                         \u001b[0m            numbers (e.g.                                                    \n",
       " \u001b[3m                 \u001b[0m  \u001b[3m               \u001b[0m   \u001b[3m                         \u001b[0m            ex1a.mple).                                                      \n",
       " \u001b[3m                 \u001b[0m  \u001b[3m               \u001b[0m   \u001b[3m \u001b[0m\u001b[3mremove_all_numeric     \u001b[0m\u001b[3m \u001b[0m  boolean   Remove all tokens that    no         False                       \n",
       " \u001b[3m                 \u001b[0m  \u001b[3m               \u001b[0m   \u001b[3m                         \u001b[0m            contain numbers only                                             \n",
       " \u001b[3m                 \u001b[0m  \u001b[3m               \u001b[0m   \u001b[3m                         \u001b[0m            (e.g. 876).                                                      \n",
       " \u001b[3m                 \u001b[0m  \u001b[3m               \u001b[0m   \u001b[3m \u001b[0m\u001b[3mremove_short_tokens    \u001b[0m\u001b[3m \u001b[0m  integer   Remove tokens shorter     no         False                       \n",
       " \u001b[3m                 \u001b[0m  \u001b[3m               \u001b[0m   \u001b[3m                         \u001b[0m            than a certain length.                                           \n",
       " \u001b[3m                 \u001b[0m  \u001b[3m               \u001b[0m   \u001b[3m                         \u001b[0m            If value is <= 0, no                                             \n",
       " \u001b[3m                 \u001b[0m  \u001b[3m               \u001b[0m   \u001b[3m                         \u001b[0m            filtering will be done.                                          \n",
       " \u001b[3m                 \u001b[0m  \u001b[3m               \u001b[0m   \u001b[3m \u001b[0m\u001b[3mnum_topics_min         \u001b[0m\u001b[3m \u001b[0m  integer   The minimal number of     no         7                           \n",
       " \u001b[3m                 \u001b[0m  \u001b[3m               \u001b[0m   \u001b[3m                         \u001b[0m            topics.                                                          \n",
       " \u001b[3m                 \u001b[0m  \u001b[3m               \u001b[0m   \u001b[3m \u001b[0m\u001b[3mnum_topics_max         \u001b[0m\u001b[3m \u001b[0m  integer   The max number of         no         7                           \n",
       " \u001b[3m                 \u001b[0m  \u001b[3m               \u001b[0m   \u001b[3m                         \u001b[0m            topics.                                                          \n",
       " \u001b[3m                 \u001b[0m  \u001b[3m               \u001b[0m   \u001b[3m \u001b[0m\u001b[3mcompute_coherence      \u001b[0m\u001b[3m \u001b[0m  boolean   Whether to compute the    no         False                       \n",
       " \u001b[3m                 \u001b[0m  \u001b[3m               \u001b[0m   \u001b[3m                         \u001b[0m            coherence score for                                              \n",
       " \u001b[3m                 \u001b[0m  \u001b[3m               \u001b[0m   \u001b[3m                         \u001b[0m            each model.                                                      \n",
       " \u001b[3m                 \u001b[0m  \u001b[3m               \u001b[0m   \u001b[3m \u001b[0m\u001b[3mwords_per_topic        \u001b[0m\u001b[3m \u001b[0m  integer   How many words per        no         10                          \n",
       " \u001b[3m                 \u001b[0m  \u001b[3m               \u001b[0m   \u001b[3m                         \u001b[0m            topic to put in the                                              \n",
       " \u001b[3m                 \u001b[0m  \u001b[3m               \u001b[0m   \u001b[3m                         \u001b[0m            result model.                                                    \n",
       " \u001b[3m                 \u001b[0m  \u001b[3m               \u001b[0m                                                                                                         \n",
       " \u001b[3m                 \u001b[0m                                                                                                                          \n",
       " \u001b[3m                 \u001b[0m  \u001b[3m \u001b[0m\u001b[3mOutputs      \u001b[0m\u001b[3m \u001b[0m                                                                                                         \n",
       " \u001b[3m                 \u001b[0m  \u001b[3m               \u001b[0m   \u001b[1m \u001b[0m\u001b[1mfield name             \u001b[0m\u001b[1m \u001b[0m \u001b[1m \u001b[0m\u001b[1mtype       \u001b[0m\u001b[1m \u001b[0m \u001b[1m \u001b[0m\u001b[1mdescription                                             \u001b[0m\u001b[1m \u001b[0m    \n",
       " \u001b[3m                 \u001b[0m  \u001b[3m               \u001b[0m   ──────────────────────────────────────────────────────────────────────────────────────────────────    \n",
       " \u001b[3m                 \u001b[0m  \u001b[3m               \u001b[0m   \u001b[3m \u001b[0m\u001b[3mtext_corpus_file_bundle\u001b[0m\u001b[3m \u001b[0m  file_bundle   The imported file bundle.                                    \n",
       " \u001b[3m                 \u001b[0m  \u001b[3m               \u001b[0m   \u001b[3m \u001b[0m\u001b[3mtext_corpus_table      \u001b[0m\u001b[3m \u001b[0m  table         The result value.                                            \n",
       " \u001b[3m                 \u001b[0m  \u001b[3m               \u001b[0m   \u001b[3m \u001b[0m\u001b[3mcontent_array          \u001b[0m\u001b[3m \u001b[0m  array         The column.                                                  \n",
       " \u001b[3m                 \u001b[0m  \u001b[3m               \u001b[0m   \u001b[3m \u001b[0m\u001b[3mdate_array             \u001b[0m\u001b[3m \u001b[0m  array         The resulting array with items of a date data type.          \n",
       " \u001b[3m                 \u001b[0m  \u001b[3m               \u001b[0m   \u001b[3m \u001b[0m\u001b[3mtokenized_corpus       \u001b[0m\u001b[3m \u001b[0m  array         The tokenized content, as an array of lists of strings.      \n",
       " \u001b[3m                 \u001b[0m  \u001b[3m               \u001b[0m   \u001b[3m \u001b[0m\u001b[3mpreprocessed_corpus    \u001b[0m\u001b[3m \u001b[0m  array         The pre-processed content, as an array of lists of           \n",
       " \u001b[3m                 \u001b[0m  \u001b[3m               \u001b[0m   \u001b[3m                         \u001b[0m                strings.                                                     \n",
       " \u001b[3m                 \u001b[0m  \u001b[3m               \u001b[0m   \u001b[3m \u001b[0m\u001b[3mtopic_models           \u001b[0m\u001b[3m \u001b[0m  dict          A dictionary with one coherence model table for each         \n",
       " \u001b[3m                 \u001b[0m  \u001b[3m               \u001b[0m   \u001b[3m                         \u001b[0m                number of topics.                                            \n",
       " \u001b[3m                 \u001b[0m  \u001b[3m               \u001b[0m   \u001b[3m \u001b[0m\u001b[3mcoherence_table        \u001b[0m\u001b[3m \u001b[0m  table         Coherence details.                                           \n",
       " \u001b[3m                 \u001b[0m  \u001b[3m               \u001b[0m   \u001b[3m \u001b[0m\u001b[3mcoherence_map          \u001b[0m\u001b[3m \u001b[0m  dict          A map with the coherence value for every number of           \n",
       " \u001b[3m                 \u001b[0m  \u001b[3m               \u001b[0m   \u001b[3m                         \u001b[0m                topics.                                                      \n",
       " \u001b[3m                 \u001b[0m  \u001b[3m               \u001b[0m                                                                                                         \n",
       " \u001b[3m                 \u001b[0m                                                                                                                          \n",
       "                                                                                                                                            \n"
      ]
     },
     "execution_count": 5,
     "metadata": {},
     "output_type": "execute_result"
    }
   ],
   "source": [
    "api.get_operation_info('topic_modeling')"
   ]
  },
  {
   "cell_type": "markdown",
   "metadata": {},
   "source": [
    "#### 2. Lineage data for the onboarding step"
   ]
  },
  {
   "cell_type": "markdown",
   "metadata": {},
   "source": [
    "- Data onboarding"
   ]
  },
  {
   "cell_type": "code",
   "execution_count": 14,
   "metadata": {},
   "outputs": [],
   "source": [
    "# add local path to example dataset, for example: https://github.com/DHARPA-Project/kiara.examples/tree/main/examples/data/text_corpus\n",
    "folder_path = '/Users/mariella.decrouychan/Documents/GitHub/kiara_plugin.playground/examples/data/CI_newspaper_subcorpora'"
   ]
  },
  {
   "cell_type": "code",
   "execution_count": 15,
   "metadata": {},
   "outputs": [],
   "source": [
    "# choose general alias related to the current data prep (to be able to easily spot data created now in data registry)\n",
    "gen_alias = 'test3oct22'"
   ]
  },
  {
   "cell_type": "code",
   "execution_count": 16,
   "metadata": {},
   "outputs": [],
   "source": [
    "onboarding_result = api.run_job(operation=\"tm_onboarding\", inputs={'folder_path':folder_path})"
   ]
  },
  {
   "cell_type": "code",
   "execution_count": 17,
   "metadata": {},
   "outputs": [
    {
     "data": {
      "text/plain": [
       "StoreValueResult(value=Value(id=efb83e08-ed00-48e8-b359-56b32881437e, type=table, status=set, initialized=True optional=False), aliases=['tm_test3oct22_onboard'], persisted_data=None, error=None)"
      ]
     },
     "execution_count": 17,
     "metadata": {},
     "output_type": "execute_result"
    }
   ],
   "source": [
    "table = onboarding_result[\"corpus_table\"]\n",
    "api.store_value(table, f'tm_{gen_alias}_onboard')"
   ]
  },
  {
   "cell_type": "code",
   "execution_count": 18,
   "metadata": {},
   "outputs": [
    {
     "name": "stdout",
     "output_type": "stream",
     "text": [
      "\n",
      "╭─ Available aliases ──────────────────────────────────────────────────────────╮\n",
      "│                                                                              │\n",
      "│  \u001b[1m \u001b[0m\u001b[1malias                \u001b[0m\u001b[1m \u001b[0m \u001b[1m \u001b[0m\u001b[1mtype \u001b[0m\u001b[1m \u001b[0m \u001b[1m \u001b[0m\u001b[1m    size\u001b[0m\u001b[1m \u001b[0m                                  │\n",
      "│  ──────────────────────────────────────────                                  │\n",
      "│   tm_test3oct22_onboard   table   16.06 MB                                   │\n",
      "│                                                                              │\n",
      "╰──────────────────────────────────────────────────────────────────────────────╯\n"
     ]
    }
   ],
   "source": [
    "# checking how that would appear in CLI\n",
    "! kiara data list"
   ]
  },
  {
   "cell_type": "markdown",
   "metadata": {},
   "source": [
    "- lineage data preparation"
   ]
  },
  {
   "cell_type": "code",
   "execution_count": 19,
   "metadata": {},
   "outputs": [],
   "source": [
    "value = api.get_value(value='tm_test3oct22_onboard')"
   ]
  },
  {
   "cell_type": "code",
   "execution_count": 20,
   "metadata": {},
   "outputs": [],
   "source": [
    "graph = value.lineage.module_graph\n",
    "result = json_graph.node_link_data(graph)"
   ]
  },
  {
   "cell_type": "code",
   "execution_count": 21,
   "metadata": {},
   "outputs": [
    {
     "data": {
      "text/plain": [
       "{'directed': True,\n",
       " 'multigraph': False,\n",
       " 'graph': {},\n",
       " 'nodes': [{'data_type': 'table',\n",
       "   'label': '[this value]',\n",
       "   'node_type': 'value',\n",
       "   'data_type_config': {},\n",
       "   'level': 1,\n",
       "   'id': 'value:efb83e08-ed00-48e8-b359-56b32881437e'},\n",
       "  {'module_type': 'create.table',\n",
       "   'module_config': {'constants': {},\n",
       "    'defaults': {},\n",
       "    'source_type': 'text_file_bundle',\n",
       "    'target_type': 'table',\n",
       "    'ignore_errors': False},\n",
       "   'label': 'create.table',\n",
       "   'node_type': 'operation',\n",
       "   'level': 3,\n",
       "   'id': 'module:zdpuAmNzF8e16HSzruEtEYa3p35f4uTP7dG6xTr8VZdHUTdVv'},\n",
       "  {'module_type': 'import.file_bundle',\n",
       "   'module_config': {'constants': {}, 'defaults': {}},\n",
       "   'label': 'import.file_bundle',\n",
       "   'node_type': 'operation',\n",
       "   'level': 5,\n",
       "   'id': 'module:zdpuApZCg4Kvf7BzkNyJd3YZD8ih9kPdg7qPAbYr4D35Fj1VW'},\n",
       "  {'label': 'path (string)',\n",
       "   'node_type': 'value',\n",
       "   'data_type': 'string',\n",
       "   'data_type_config': {},\n",
       "   'level': 6,\n",
       "   'id': 'value:f4663d01-3c01-4d24-9be5-907f03410767'}],\n",
       " 'links': [{'id': 'value:efb83e08-ed00-48e8-b359-56b32881437e:module:zdpuAmNzF8e16HSzruEtEYa3p35f4uTP7dG6xTr8VZdHUTdVv',\n",
       "   'field_name': 'table',\n",
       "   'label': 'table (table)',\n",
       "   'source': 'module:zdpuAmNzF8e16HSzruEtEYa3p35f4uTP7dG6xTr8VZdHUTdVv',\n",
       "   'target': 'value:efb83e08-ed00-48e8-b359-56b32881437e'},\n",
       "  {'id': 'module:zdpuAmNzF8e16HSzruEtEYa3p35f4uTP7dG6xTr8VZdHUTdVv:text_file_bundle',\n",
       "   'field_name': 'text_file_bundle',\n",
       "   'label': 'text_file_bundle (file_bundle)',\n",
       "   'source': 'module:zdpuApZCg4Kvf7BzkNyJd3YZD8ih9kPdg7qPAbYr4D35Fj1VW',\n",
       "   'target': 'module:zdpuAmNzF8e16HSzruEtEYa3p35f4uTP7dG6xTr8VZdHUTdVv'},\n",
       "  {'id': 'module:zdpuApZCg4Kvf7BzkNyJd3YZD8ih9kPdg7qPAbYr4D35Fj1VW:value:f4663d01-3c01-4d24-9be5-907f03410767',\n",
       "   'field_name': 'path',\n",
       "   'label': 'path (string)',\n",
       "   'source': 'value:f4663d01-3c01-4d24-9be5-907f03410767',\n",
       "   'target': 'module:zdpuApZCg4Kvf7BzkNyJd3YZD8ih9kPdg7qPAbYr4D35Fj1VW'}]}"
      ]
     },
     "execution_count": 21,
     "metadata": {},
     "output_type": "execute_result"
    }
   ],
   "source": [
    "result"
   ]
  },
  {
   "cell_type": "code",
   "execution_count": 23,
   "metadata": {},
   "outputs": [
    {
     "data": {
      "text/plain": [
       "dict"
      ]
     },
     "execution_count": 23,
     "metadata": {},
     "output_type": "execute_result"
    }
   ],
   "source": [
    "type(result)"
   ]
  },
  {
   "cell_type": "code",
   "execution_count": 28,
   "metadata": {},
   "outputs": [
    {
     "data": {
      "text/plain": [
       "{'data_type': 'table',\n",
       " 'label': '[this value]',\n",
       " 'node_type': 'value',\n",
       " 'data_type_config': {},\n",
       " 'level': 1,\n",
       " 'id': 'value:efb83e08-ed00-48e8-b359-56b32881437e'}"
      ]
     },
     "execution_count": 28,
     "metadata": {},
     "output_type": "execute_result"
    }
   ],
   "source": [
    "result['nodes'][0]"
   ]
  },
  {
   "cell_type": "code",
   "execution_count": 73,
   "metadata": {},
   "outputs": [],
   "source": [
    "nodes = graph.nodes.data()\n",
    "augmented_nodes = dict()"
   ]
  },
  {
   "cell_type": "code",
   "execution_count": 78,
   "metadata": {},
   "outputs": [],
   "source": [
    "for idx, node in enumerate(nodes): \n",
    "    node_dict = {\n",
    "        \"id\": node[0],\n",
    "        \"desc\": node[1],\n",
    "        \"children\": [pred for pred in graph.predecessors(node[0])]\n",
    "    }\n",
    "    augmented_nodes[idx] = node_dict"
   ]
  },
  {
   "cell_type": "code",
   "execution_count": 79,
   "metadata": {},
   "outputs": [
    {
     "data": {
      "text/plain": [
       "{0: {'id': 'value:efb83e08-ed00-48e8-b359-56b32881437e',\n",
       "  'desc': {'data_type': 'table',\n",
       "   'label': '[this value]',\n",
       "   'node_type': 'value',\n",
       "   'data_type_config': {},\n",
       "   'level': 1,\n",
       "   'children': ['module:zdpuAmNzF8e16HSzruEtEYa3p35f4uTP7dG6xTr8VZdHUTdVv']},\n",
       "  'children': ['module:zdpuAmNzF8e16HSzruEtEYa3p35f4uTP7dG6xTr8VZdHUTdVv']},\n",
       " 1: {'id': 'module:zdpuAmNzF8e16HSzruEtEYa3p35f4uTP7dG6xTr8VZdHUTdVv',\n",
       "  'desc': {'module_type': 'create.table',\n",
       "   'module_config': {'constants': {},\n",
       "    'defaults': {},\n",
       "    'source_type': 'text_file_bundle',\n",
       "    'target_type': 'table',\n",
       "    'ignore_errors': False},\n",
       "   'label': 'create.table',\n",
       "   'node_type': 'operation',\n",
       "   'level': 3},\n",
       "  'children': ['module:zdpuApZCg4Kvf7BzkNyJd3YZD8ih9kPdg7qPAbYr4D35Fj1VW']},\n",
       " 2: {'id': 'module:zdpuApZCg4Kvf7BzkNyJd3YZD8ih9kPdg7qPAbYr4D35Fj1VW',\n",
       "  'desc': {'module_type': 'import.file_bundle',\n",
       "   'module_config': {'constants': {}, 'defaults': {}},\n",
       "   'label': 'import.file_bundle',\n",
       "   'node_type': 'operation',\n",
       "   'level': 5},\n",
       "  'children': ['value:f4663d01-3c01-4d24-9be5-907f03410767']},\n",
       " 3: {'id': 'value:f4663d01-3c01-4d24-9be5-907f03410767',\n",
       "  'desc': {'label': 'path (string)',\n",
       "   'node_type': 'value',\n",
       "   'data_type': 'string',\n",
       "   'data_type_config': {},\n",
       "   'level': 6},\n",
       "  'children': []}}"
      ]
     },
     "execution_count": 79,
     "metadata": {},
     "output_type": "execute_result"
    }
   ],
   "source": [
    "augmented_nodes"
   ]
  }
 ],
 "metadata": {
  "kernelspec": {
   "display_name": "Python 3.9.13 ('lineage_data')",
   "language": "python",
   "name": "python3"
  },
  "language_info": {
   "codemirror_mode": {
    "name": "ipython",
    "version": 3
   },
   "file_extension": ".py",
   "mimetype": "text/x-python",
   "name": "python",
   "nbconvert_exporter": "python",
   "pygments_lexer": "ipython3",
   "version": "3.9.13"
  },
  "orig_nbformat": 4,
  "vscode": {
   "interpreter": {
    "hash": "228375bcce0a8956ce89b9643fa60a5b1cfe58b66397d54e952582f12d844562"
   }
  }
 },
 "nbformat": 4,
 "nbformat_minor": 2
}
